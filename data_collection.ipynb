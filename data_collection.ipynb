{
 "cells": [
  {
   "cell_type": "code",
   "execution_count": 62,
   "metadata": {},
   "outputs": [],
   "source": [
    "import pandas as pd\n",
    "import json\n",
    "from pandas_datareader import wb"
   ]
  },
  {
   "cell_type": "code",
   "execution_count": 122,
   "metadata": {},
   "outputs": [],
   "source": [
    "world_bank_file_out = \"world_bank_data\""
   ]
  },
  {
   "cell_type": "code",
   "execution_count": 108,
   "metadata": {},
   "outputs": [],
   "source": [
    "\n",
    "codes = ['SI.POV.DDAY',\n",
    "'SI.POV.GINI',\n",
    "'EN.POP.SLUM.UR.ZS',\n",
    "'SI.SPR.PC40',\n",
    "'SE.PRM.UNER',\n",
    "'SE.XPD.TOTL.GD.ZS',\n",
    "'SL.TLF.TOTL.IN',\n",
    "'NY.GDP.MKTP.KD.ZG',\n",
    "'SP.URB.TOTL.IN.ZS',\n",
    "'EN.POP.SLUM.UR.ZS']\n"
   ]
  },
  {
   "cell_type": "code",
   "execution_count": 84,
   "metadata": {},
   "outputs": [],
   "source": [
    "ferg = wb.download(indicator=code, country=['all'],start=1972, end=2018)"
   ]
  },
  {
   "cell_type": "code",
   "execution_count": 117,
   "metadata": {},
   "outputs": [
    {
     "name": "stdout",
     "output_type": "stream",
     "text": [
      "SI.POV.DDAY\n",
      "SI.POV.GINI\n",
      "EN.POP.SLUM.UR.ZS\n",
      "SI.SPR.PC40\n",
      "SE.PRM.UNER\n",
      "SE.XPD.TOTL.GD.ZS\n",
      "SL.TLF.TOTL.IN\n",
      "NY.GDP.MKTP.KD.ZG\n",
      "SP.URB.TOTL.IN.ZS\n",
      "EN.POP.SLUM.UR.ZS\n"
     ]
    }
   ],
   "source": [
    "data = dict()\n",
    "for code in codes:\n",
    "    print(code)\n",
    "    data[code] = wb.download(indicator=code, country=['all'],start=1972, end=2018)"
   ]
  },
  {
   "cell_type": "code",
   "execution_count": 118,
   "metadata": {},
   "outputs": [],
   "source": [
    "to_concatentate = [ data[code] for code in codes]"
   ]
  },
  {
   "cell_type": "code",
   "execution_count": 121,
   "metadata": {},
   "outputs": [
    {
     "name": "stderr",
     "output_type": "stream",
     "text": [
      "C:\\Users\\Fergus\\.conda\\envs\\sdgs-env\\lib\\site-packages\\ipykernel_launcher.py:1: FutureWarning: Sorting because non-concatenation axis is not aligned. A future version\n",
      "of pandas will change to not sort by default.\n",
      "\n",
      "To accept the future behavior, pass 'sort=False'.\n",
      "\n",
      "To retain the current behavior and silence the warning, pass 'sort=True'.\n",
      "\n",
      "  \"\"\"Entry point for launching an IPython kernel.\n"
     ]
    }
   ],
   "source": [
    "world_bank_data = pd.concat(to_concatentate)"
   ]
  },
  {
   "cell_type": "code",
   "execution_count": 124,
   "metadata": {},
   "outputs": [],
   "source": [
    "world_bank_data.to_pickle(world_bank_file_out)"
   ]
  }
 ],
 "metadata": {
  "kernelspec": {
   "display_name": "Python 3",
   "language": "python",
   "name": "python3"
  },
  "language_info": {
   "codemirror_mode": {
    "name": "ipython",
    "version": 3
   },
   "file_extension": ".py",
   "mimetype": "text/x-python",
   "name": "python",
   "nbconvert_exporter": "python",
   "pygments_lexer": "ipython3",
   "version": "3.7.2"
  }
 },
 "nbformat": 4,
 "nbformat_minor": 2
}
