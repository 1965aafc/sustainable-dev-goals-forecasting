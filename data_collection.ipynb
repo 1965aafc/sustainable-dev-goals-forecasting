{
 "cells": [
  {
   "cell_type": "code",
   "execution_count": 30,
   "metadata": {},
   "outputs": [],
   "source": [
    "import pandas as pd\n",
    "import json\n",
    "from pandas_datareader import wb"
   ]
  },
  {
   "cell_type": "code",
   "execution_count": 31,
   "metadata": {},
   "outputs": [],
   "source": [
    "world_bank_file_out = \"world_bank_data\""
   ]
  },
  {
   "cell_type": "code",
   "execution_count": 32,
   "metadata": {},
   "outputs": [],
   "source": [
    "\n",
    "codes = ['SI.POV.DDAY',\n",
    "'SI.POV.GINI',\n",
    "'EN.POP.SLUM.UR.ZS',\n",
    "'SI.SPR.PC40',\n",
    "'SE.PRM.UNER',\n",
    "'SE.XPD.TOTL.GD.ZS',\n",
    "'SL.TLF.TOTL.IN',\n",
    "'NY.GDP.MKTP.KD.ZG',\n",
    "'SP.URB.TOTL.IN.ZS',\n",
    "'EN.POP.SLUM.UR.ZS']\n"
   ]
  },
  {
   "cell_type": "code",
   "execution_count": 33,
   "metadata": {},
   "outputs": [
    {
     "name": "stdout",
     "output_type": "stream",
     "text": [
      "SI.POV.DDAY\n",
      "SI.POV.GINI\n",
      "EN.POP.SLUM.UR.ZS\n",
      "SI.SPR.PC40\n",
      "SE.PRM.UNER\n",
      "SE.XPD.TOTL.GD.ZS\n",
      "SL.TLF.TOTL.IN\n",
      "NY.GDP.MKTP.KD.ZG\n",
      "SP.URB.TOTL.IN.ZS\n",
      "EN.POP.SLUM.UR.ZS\n"
     ]
    }
   ],
   "source": [
    "data = dict()\n",
    "for code in codes:\n",
    "    print(code)\n",
    "    data[code] = wb.download(indicator=code, country=['all'],start=1972, end=2018)"
   ]
  },
  {
   "cell_type": "code",
   "execution_count": 34,
   "metadata": {},
   "outputs": [],
   "source": [
    "to_concatentate = [ data[code] for code in codes]"
   ]
  },
  {
   "cell_type": "code",
   "execution_count": 35,
   "metadata": {},
   "outputs": [],
   "source": [
    "world_bank_data = pd.concat(to_concatentate, axis=1)"
   ]
  },
  {
   "cell_type": "code",
   "execution_count": 36,
   "metadata": {},
   "outputs": [
    {
     "data": {
      "text/plain": [
       "(12408, 10)"
      ]
     },
     "execution_count": 36,
     "metadata": {},
     "output_type": "execute_result"
    }
   ],
   "source": [
    "world_bank_data.shape"
   ]
  },
  {
   "cell_type": "code",
   "execution_count": 37,
   "metadata": {},
   "outputs": [],
   "source": [
    "world_bank_data.to_pickle(world_bank_file_out)"
   ]
  }
 ],
 "metadata": {
  "kernelspec": {
   "display_name": "Python 3",
   "language": "python",
   "name": "python3"
  },
  "language_info": {
   "codemirror_mode": {
    "name": "ipython",
    "version": 3
   },
   "file_extension": ".py",
   "mimetype": "text/x-python",
   "name": "python",
   "nbconvert_exporter": "python",
   "pygments_lexer": "ipython3",
   "version": "3.7.2"
  }
 },
 "nbformat": 4,
 "nbformat_minor": 2
}
