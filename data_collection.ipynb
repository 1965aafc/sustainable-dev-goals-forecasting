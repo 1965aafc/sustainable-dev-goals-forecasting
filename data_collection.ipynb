{
 "cells": [
  {
   "cell_type": "markdown",
   "metadata": {},
   "source": [
    "### data_collection.ipynb\n",
    "\n",
    "The purpose of this file is to obtain data from the World Bank API, combine this data together into a single pandas dataframe and write to disk as a pickle file"
   ]
  },
  {
   "cell_type": "code",
   "execution_count": 3,
   "metadata": {},
   "outputs": [],
   "source": [
    "import pandas as pd\n",
    "import json\n",
    "from pandas_datareader import wb"
   ]
  },
  {
   "cell_type": "code",
   "execution_count": 4,
   "metadata": {},
   "outputs": [],
   "source": [
    "#name of output pickle file\n",
    "world_bank_file_out = \"world_bank_data\""
   ]
  },
  {
   "cell_type": "code",
   "execution_count": 5,
   "metadata": {},
   "outputs": [],
   "source": [
    "#List of World Bank Indictor codes to be used to obtain data from the World bank API\n",
    "codes = ['SI.POV.DDAY',\n",
    "'SI.POV.GINI',\n",
    "'EN.POP.SLUM.UR.ZS',\n",
    "'SI.SPR.PC40',\n",
    "'SE.PRM.UNER',\n",
    "'SE.XPD.TOTL.GD.ZS',\n",
    "'SL.TLF.TOTL.IN',\n",
    "'NY.GDP.MKTP.KD.ZG',\n",
    "'SP.URB.TOTL.IN.ZS']\n"
   ]
  },
  {
   "cell_type": "code",
   "execution_count": 6,
   "metadata": {},
   "outputs": [
    {
     "name": "stdout",
     "output_type": "stream",
     "text": [
      "SI.POV.DDAY\n",
      "SI.POV.GINI\n",
      "EN.POP.SLUM.UR.ZS\n",
      "SI.SPR.PC40\n",
      "SE.PRM.UNER\n",
      "SE.XPD.TOTL.GD.ZS\n",
      "SL.TLF.TOTL.IN\n",
      "NY.GDP.MKTP.KD.ZG\n",
      "SP.URB.TOTL.IN.ZS\n"
     ]
    }
   ],
   "source": [
    "#Obtain data through the World Bank API using the pandas datareader library\n",
    "data = dict()\n",
    "for code in codes:\n",
    "    print(code)\n",
    "    data[code] = wb.download(indicator=code, country=['all'],start=1972, end=2018)"
   ]
  },
  {
   "cell_type": "code",
   "execution_count": 7,
   "metadata": {},
   "outputs": [],
   "source": [
    "#Concatenate together into 1 file\n",
    "to_concatentate = [ data[code] for code in codes]\n",
    "world_bank_data = pd.concat(to_concatentate, axis=1)"
   ]
  },
  {
   "cell_type": "code",
   "execution_count": 35,
   "metadata": {},
   "outputs": [],
   "source": []
  },
  {
   "cell_type": "code",
   "execution_count": 8,
   "metadata": {},
   "outputs": [],
   "source": [
    "#Write data to a pickle file\n",
    "world_bank_data.to_pickle(world_bank_file_out)"
   ]
  }
 ],
 "metadata": {
  "kernelspec": {
   "display_name": "Python 3",
   "language": "python",
   "name": "python3"
  },
  "language_info": {
   "codemirror_mode": {
    "name": "ipython",
    "version": 3
   },
   "file_extension": ".py",
   "mimetype": "text/x-python",
   "name": "python",
   "nbconvert_exporter": "python",
   "pygments_lexer": "ipython3",
   "version": "3.7.2"
  }
 },
 "nbformat": 4,
 "nbformat_minor": 2
}
