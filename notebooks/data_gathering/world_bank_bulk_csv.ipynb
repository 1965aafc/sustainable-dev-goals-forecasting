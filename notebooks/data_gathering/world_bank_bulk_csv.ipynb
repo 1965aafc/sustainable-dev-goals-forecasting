{
 "cells": [
  {
   "cell_type": "markdown",
   "metadata": {},
   "source": [
    "The purpose of this file is to load World bank indicator data, obtained in CSV format, downloading from the [World Bank Indicator portal](http://datatopics.worldbank.org/world-development-indicators/)  \n",
    "\n",
    "The data is reformated to a pandas dataframe with following format specified: indicators are on columns and the country and year form a multi level row index"
   ]
  },
  {
   "cell_type": "code",
   "execution_count": 1,
   "metadata": {},
   "outputs": [],
   "source": [
    "import pandas as pd\n",
    "import json\n",
    "from pandas_datareader import wb"
   ]
  },
  {
   "cell_type": "code",
   "execution_count": 3,
   "metadata": {},
   "outputs": [],
   "source": [
    "data_dir = '.\\\\..\\\\..\\\\data\\\\'\n",
    "#name of output pickle file\n",
    "world_bank_file_out = \"world_bank_bulk_data.pkl\"\n",
    "#Name of input bulk csv file from the World bank website\n",
    "world_bank_file_input = \"WDIData.csv\"\n",
    "wb_data = pd.read_csv(data_dir + world_bank_file_input)"
   ]
  },
  {
   "cell_type": "markdown",
   "metadata": {},
   "source": [
    "#### Format as received from the World Bank:"
   ]
  },
  {
   "cell_type": "code",
   "execution_count": 11,
   "metadata": {},
   "outputs": [
    {
     "name": "stdout",
     "output_type": "stream",
     "text": [
      "Shape: (12361, 1594)\n"
     ]
    },
    {
     "data": {
      "text/html": [
       "<div>\n",
       "<style scoped>\n",
       "    .dataframe tbody tr th:only-of-type {\n",
       "        vertical-align: middle;\n",
       "    }\n",
       "\n",
       "    .dataframe tbody tr th {\n",
       "        vertical-align: top;\n",
       "    }\n",
       "\n",
       "    .dataframe thead th {\n",
       "        text-align: right;\n",
       "    }\n",
       "</style>\n",
       "<table border=\"1\" class=\"dataframe\">\n",
       "  <thead>\n",
       "    <tr style=\"text-align: right;\">\n",
       "      <th></th>\n",
       "      <th>Indicator Code</th>\n",
       "      <th>EG.CFT.ACCS.ZS</th>\n",
       "      <th>EG.ELC.ACCS.ZS</th>\n",
       "      <th>...</th>\n",
       "      <th>NY.GSR.NFCY.KN</th>\n",
       "      <th>SH.STA.FGMS.ZS</th>\n",
       "    </tr>\n",
       "    <tr>\n",
       "      <th>Country</th>\n",
       "      <th>Year</th>\n",
       "      <th></th>\n",
       "      <th></th>\n",
       "      <th></th>\n",
       "      <th></th>\n",
       "      <th></th>\n",
       "    </tr>\n",
       "  </thead>\n",
       "  <tbody>\n",
       "    <tr>\n",
       "      <th rowspan=\"3\" valign=\"top\">Afghanistan</th>\n",
       "      <th>1972</th>\n",
       "      <td>NaN</td>\n",
       "      <td>NaN</td>\n",
       "      <td>...</td>\n",
       "      <td>NaN</td>\n",
       "      <td>NaN</td>\n",
       "    </tr>\n",
       "    <tr>\n",
       "      <th>1973</th>\n",
       "      <td>NaN</td>\n",
       "      <td>NaN</td>\n",
       "      <td>...</td>\n",
       "      <td>NaN</td>\n",
       "      <td>NaN</td>\n",
       "    </tr>\n",
       "    <tr>\n",
       "      <th>1974</th>\n",
       "      <td>NaN</td>\n",
       "      <td>NaN</td>\n",
       "      <td>...</td>\n",
       "      <td>NaN</td>\n",
       "      <td>NaN</td>\n",
       "    </tr>\n",
       "  </tbody>\n",
       "</table>\n",
       "<p>3 rows × 1594 columns</p>\n",
       "</div>"
      ],
      "text/plain": [
       "Indicator Code    EG.CFT.ACCS.ZS  EG.ELC.ACCS.ZS  ...  NY.GSR.NFCY.KN  \\\n",
       "Country     Year                                  ...                   \n",
       "Afghanistan 1972             NaN             NaN  ...             NaN   \n",
       "            1973             NaN             NaN  ...             NaN   \n",
       "            1974             NaN             NaN  ...             NaN   \n",
       "\n",
       "Indicator Code    SH.STA.FGMS.ZS  \n",
       "Country     Year                  \n",
       "Afghanistan 1972             NaN  \n",
       "            1973             NaN  \n",
       "            1974             NaN  \n",
       "\n",
       "[3 rows x 1594 columns]"
      ]
     },
     "execution_count": 11,
     "metadata": {},
     "output_type": "execute_result"
    }
   ],
   "source": [
    "print(\"Shape:\",wb_data.shape)\n",
    "\n",
    "wb_data.head(3)"
   ]
  },
  {
   "cell_type": "code",
   "execution_count": 7,
   "metadata": {},
   "outputs": [],
   "source": [
    "#filter out innecessary columns (we will focus on years 1972 to 2018)\n",
    "drop = ['Country Code','Indicator Name','1960','1961','1962','1963','1964',\\\n",
    "        '1965','1966','1967','1968','1969', '1970', '1971', 'Unnamed: 63']\n",
    "wb_data = wb_data.drop(drop, axis='columns')"
   ]
  },
  {
   "cell_type": "code",
   "execution_count": 8,
   "metadata": {},
   "outputs": [],
   "source": [
    "#Switch around the data so that indicators are on columns and the country and year form a multi level row index\n",
    "wb_data = wb_data.set_index(['Country Name', 'Indicator Code'])\n",
    "wb_data = wb_data.stack()\n",
    "wb_data = wb_data.unstack(['Indicator Code'])\n",
    "wb_data = wb_data.sort_index()\n",
    "wb_data.index.levels[1].name = 'Year'\n",
    "wb_data.index.levels[0].name = 'Country'"
   ]
  },
  {
   "cell_type": "markdown",
   "metadata": {},
   "source": [
    "#### Output format:"
   ]
  },
  {
   "cell_type": "code",
   "execution_count": 9,
   "metadata": {},
   "outputs": [
    {
     "data": {
      "text/html": [
       "<div>\n",
       "<style scoped>\n",
       "    .dataframe tbody tr th:only-of-type {\n",
       "        vertical-align: middle;\n",
       "    }\n",
       "\n",
       "    .dataframe tbody tr th {\n",
       "        vertical-align: top;\n",
       "    }\n",
       "\n",
       "    .dataframe thead th {\n",
       "        text-align: right;\n",
       "    }\n",
       "</style>\n",
       "<table border=\"1\" class=\"dataframe\">\n",
       "  <thead>\n",
       "    <tr style=\"text-align: right;\">\n",
       "      <th></th>\n",
       "      <th>Indicator Code</th>\n",
       "      <th>EG.CFT.ACCS.ZS</th>\n",
       "      <th>EG.ELC.ACCS.ZS</th>\n",
       "      <th>...</th>\n",
       "      <th>NY.GSR.NFCY.KN</th>\n",
       "      <th>SH.STA.FGMS.ZS</th>\n",
       "    </tr>\n",
       "    <tr>\n",
       "      <th>Country</th>\n",
       "      <th>Year</th>\n",
       "      <th></th>\n",
       "      <th></th>\n",
       "      <th></th>\n",
       "      <th></th>\n",
       "      <th></th>\n",
       "    </tr>\n",
       "  </thead>\n",
       "  <tbody>\n",
       "    <tr>\n",
       "      <th rowspan=\"10\" valign=\"top\">Afghanistan</th>\n",
       "      <th>1972</th>\n",
       "      <td>NaN</td>\n",
       "      <td>NaN</td>\n",
       "      <td>...</td>\n",
       "      <td>NaN</td>\n",
       "      <td>NaN</td>\n",
       "    </tr>\n",
       "    <tr>\n",
       "      <th>1973</th>\n",
       "      <td>NaN</td>\n",
       "      <td>NaN</td>\n",
       "      <td>...</td>\n",
       "      <td>NaN</td>\n",
       "      <td>NaN</td>\n",
       "    </tr>\n",
       "    <tr>\n",
       "      <th>1974</th>\n",
       "      <td>NaN</td>\n",
       "      <td>NaN</td>\n",
       "      <td>...</td>\n",
       "      <td>NaN</td>\n",
       "      <td>NaN</td>\n",
       "    </tr>\n",
       "    <tr>\n",
       "      <th>1975</th>\n",
       "      <td>NaN</td>\n",
       "      <td>NaN</td>\n",
       "      <td>...</td>\n",
       "      <td>NaN</td>\n",
       "      <td>NaN</td>\n",
       "    </tr>\n",
       "    <tr>\n",
       "      <th>1976</th>\n",
       "      <td>NaN</td>\n",
       "      <td>NaN</td>\n",
       "      <td>...</td>\n",
       "      <td>NaN</td>\n",
       "      <td>NaN</td>\n",
       "    </tr>\n",
       "    <tr>\n",
       "      <th>1977</th>\n",
       "      <td>NaN</td>\n",
       "      <td>NaN</td>\n",
       "      <td>...</td>\n",
       "      <td>NaN</td>\n",
       "      <td>NaN</td>\n",
       "    </tr>\n",
       "    <tr>\n",
       "      <th>1978</th>\n",
       "      <td>NaN</td>\n",
       "      <td>NaN</td>\n",
       "      <td>...</td>\n",
       "      <td>NaN</td>\n",
       "      <td>NaN</td>\n",
       "    </tr>\n",
       "    <tr>\n",
       "      <th>1979</th>\n",
       "      <td>NaN</td>\n",
       "      <td>NaN</td>\n",
       "      <td>...</td>\n",
       "      <td>NaN</td>\n",
       "      <td>NaN</td>\n",
       "    </tr>\n",
       "    <tr>\n",
       "      <th>1980</th>\n",
       "      <td>NaN</td>\n",
       "      <td>NaN</td>\n",
       "      <td>...</td>\n",
       "      <td>NaN</td>\n",
       "      <td>NaN</td>\n",
       "    </tr>\n",
       "    <tr>\n",
       "      <th>1981</th>\n",
       "      <td>NaN</td>\n",
       "      <td>NaN</td>\n",
       "      <td>...</td>\n",
       "      <td>NaN</td>\n",
       "      <td>NaN</td>\n",
       "    </tr>\n",
       "  </tbody>\n",
       "</table>\n",
       "<p>10 rows × 1594 columns</p>\n",
       "</div>"
      ],
      "text/plain": [
       "Indicator Code    EG.CFT.ACCS.ZS  EG.ELC.ACCS.ZS  ...  NY.GSR.NFCY.KN  \\\n",
       "Country     Year                                  ...                   \n",
       "Afghanistan 1972             NaN             NaN  ...             NaN   \n",
       "            1973             NaN             NaN  ...             NaN   \n",
       "            1974             NaN             NaN  ...             NaN   \n",
       "            1975             NaN             NaN  ...             NaN   \n",
       "            1976             NaN             NaN  ...             NaN   \n",
       "            1977             NaN             NaN  ...             NaN   \n",
       "            1978             NaN             NaN  ...             NaN   \n",
       "            1979             NaN             NaN  ...             NaN   \n",
       "            1980             NaN             NaN  ...             NaN   \n",
       "            1981             NaN             NaN  ...             NaN   \n",
       "\n",
       "Indicator Code    SH.STA.FGMS.ZS  \n",
       "Country     Year                  \n",
       "Afghanistan 1972             NaN  \n",
       "            1973             NaN  \n",
       "            1974             NaN  \n",
       "            1975             NaN  \n",
       "            1976             NaN  \n",
       "            1977             NaN  \n",
       "            1978             NaN  \n",
       "            1979             NaN  \n",
       "            1980             NaN  \n",
       "            1981             NaN  \n",
       "\n",
       "[10 rows x 1594 columns]"
      ]
     },
     "execution_count": 9,
     "metadata": {},
     "output_type": "execute_result"
    }
   ],
   "source": [
    "wb_data.head(10)"
   ]
  },
  {
   "cell_type": "markdown",
   "metadata": {},
   "source": [
    "#### Save to a pickle file:"
   ]
  },
  {
   "cell_type": "code",
   "execution_count": 10,
   "metadata": {},
   "outputs": [],
   "source": [
    "#Write data to a pickle file\n",
    "wb_data.to_pickle(data_dir + world_bank_file_out)"
   ]
  }
 ],
 "metadata": {
  "kernelspec": {
   "display_name": "Python 3",
   "language": "python",
   "name": "python3"
  },
  "language_info": {
   "codemirror_mode": {
    "name": "ipython",
    "version": 3
   },
   "file_extension": ".py",
   "mimetype": "text/x-python",
   "name": "python",
   "nbconvert_exporter": "python",
   "pygments_lexer": "ipython3",
   "version": "3.7.2"
  }
 },
 "nbformat": 4,
 "nbformat_minor": 2
}
