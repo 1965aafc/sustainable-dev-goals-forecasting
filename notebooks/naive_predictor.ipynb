{
 "cells": [
  {
   "cell_type": "code",
   "execution_count": 1,
   "metadata": {},
   "outputs": [],
   "source": [
    "import warnings\n",
    "\n",
    "import pandas as pd\n",
    "import numpy as np\n",
    "\n",
    "import sys\n",
    "sys.path.append('..')\n",
    "from utils import preprocess, missing, evaluate"
   ]
  },
  {
   "cell_type": "code",
   "execution_count": 2,
   "metadata": {},
   "outputs": [],
   "source": [
    "input_dir = '.\\\\..\\\\data\\\\'\n",
    "data_input = \"cleaned_data.pkl\"\n",
    "data = pd.read_pickle(input_dir + data_input)"
   ]
  },
  {
   "cell_type": "code",
   "execution_count": 3,
   "metadata": {},
   "outputs": [],
   "source": [
    "predict_year = 2010\n",
    "target = 'SI.POV.DDAY'\n",
    "n_avg = 3"
   ]
  },
  {
   "cell_type": "markdown",
   "metadata": {},
   "source": [
    "### Missing Value Imputation"
   ]
  },
  {
   "cell_type": "code",
   "execution_count": 12,
   "metadata": {},
   "outputs": [],
   "source": [
    "#get rid of EN.POP.SLUM.UR.ZS and SI.SPR.PC40 since they have so many missing values\n",
    "#This needs to be removed from both the train and test regressors file\n",
    "remove = ['EN.POP.SLUM.UR.ZS', 'SI.SPR.PC40']\n",
    "data = data.drop(remove, axis=1)\n",
    "\n",
    "#Missing value imputation using forward fill folled by backfill \n",
    "missing.perform_ffill_bfill(data, predict_year, target)\n",
    "    \n",
    "#Set remaining missing values to 0. (This should be replaced by mean imputation ASAP)\n",
    "\n",
    "#First, for all columns except the target \n",
    "all_cols_except_target = list(data.columns.values)\n",
    "all_cols_except_target.remove(target)\n",
    "\n",
    "data.loc[:,all_cols_except_target] = data.loc[:,all_cols_except_target].fillna(0)\n",
    "#Then, for the target just cover years up to the year before our target year.  \n",
    "idx = pd.IndexSlice\n",
    "data.loc[idx[:, :str(predict_year-1)], target] = data.loc[idx[:, :str(predict_year-1)], target].fillna(0)"
   ]
  },
  {
   "cell_type": "markdown",
   "metadata": {},
   "source": [
    "### Obtaining the targets\n",
    "\n",
    "Here we read in the cleaned input data and apply the windowing method to get the targets (see the Linear regression file for more details on the windowing method."
   ]
  },
  {
   "cell_type": "code",
   "execution_count": 13,
   "metadata": {},
   "outputs": [],
   "source": [
    "_,_,_, data_test_targets =   preprocess.window_data2(data,predict_year=2010, target=target)"
   ]
  },
  {
   "cell_type": "markdown",
   "metadata": {},
   "source": [
    "### Naive Predictor\n",
    "\n",
    "Take the average of the last 'n_avg' values of the target variable"
   ]
  },
  {
   "cell_type": "code",
   "execution_count": 14,
   "metadata": {},
   "outputs": [],
   "source": [
    "#Create an empty output dataframe\n",
    "countries_in_data = list(data.index.levels[0]) \n",
    "naive_predictions = pd.DataFrame(index=countries_in_data, columns=[target])"
   ]
  },
  {
   "cell_type": "code",
   "execution_count": 15,
   "metadata": {},
   "outputs": [],
   "source": [
    "for country in countries_in_data:\n",
    "    with warnings.catch_warnings():\n",
    "        # it's ok that we are getting the mean of empty arrays sometimes. It's the nature of..\n",
    "        #our data that there is a lot of missing data.\n",
    "        warnings.simplefilter(\"ignore\") \n",
    "        naive_predictions.loc[country] = np.nanmean(data.loc[(country,str(predict_year-n_avg-1)):(country,str(predict_year-1)), 'SI.POV.DDAY' ].values)"
   ]
  },
  {
   "cell_type": "code",
   "execution_count": 16,
   "metadata": {},
   "outputs": [
    {
     "data": {
      "text/html": [
       "<div>\n",
       "<style scoped>\n",
       "    .dataframe tbody tr th:only-of-type {\n",
       "        vertical-align: middle;\n",
       "    }\n",
       "\n",
       "    .dataframe tbody tr th {\n",
       "        vertical-align: top;\n",
       "    }\n",
       "\n",
       "    .dataframe thead th {\n",
       "        text-align: right;\n",
       "    }\n",
       "</style>\n",
       "<table border=\"1\" class=\"dataframe\">\n",
       "  <thead>\n",
       "    <tr style=\"text-align: right;\">\n",
       "      <th></th>\n",
       "      <th>SI.POV.DDAY</th>\n",
       "    </tr>\n",
       "  </thead>\n",
       "  <tbody>\n",
       "    <tr>\n",
       "      <th>Afghanistan</th>\n",
       "      <td>0</td>\n",
       "    </tr>\n",
       "    <tr>\n",
       "      <th>Albania</th>\n",
       "      <td>0.75</td>\n",
       "    </tr>\n",
       "    <tr>\n",
       "      <th>Algeria</th>\n",
       "      <td>5.8</td>\n",
       "    </tr>\n",
       "    <tr>\n",
       "      <th>American Samoa</th>\n",
       "      <td>0</td>\n",
       "    </tr>\n",
       "    <tr>\n",
       "      <th>Andorra</th>\n",
       "      <td>0</td>\n",
       "    </tr>\n",
       "    <tr>\n",
       "      <th>Angola</th>\n",
       "      <td>31.2</td>\n",
       "    </tr>\n",
       "    <tr>\n",
       "      <th>Antigua and Barbuda</th>\n",
       "      <td>0</td>\n",
       "    </tr>\n",
       "    <tr>\n",
       "      <th>Argentina</th>\n",
       "      <td>2.85</td>\n",
       "    </tr>\n",
       "    <tr>\n",
       "      <th>Armenia</th>\n",
       "      <td>2.325</td>\n",
       "    </tr>\n",
       "    <tr>\n",
       "      <th>Aruba</th>\n",
       "      <td>0</td>\n",
       "    </tr>\n",
       "  </tbody>\n",
       "</table>\n",
       "</div>"
      ],
      "text/plain": [
       "                    SI.POV.DDAY\n",
       "Afghanistan                   0\n",
       "Albania                    0.75\n",
       "Algeria                     5.8\n",
       "American Samoa                0\n",
       "Andorra                       0\n",
       "Angola                     31.2\n",
       "Antigua and Barbuda           0\n",
       "Argentina                  2.85\n",
       "Armenia                   2.325\n",
       "Aruba                         0"
      ]
     },
     "execution_count": 16,
     "metadata": {},
     "output_type": "execute_result"
    }
   ],
   "source": [
    "naive_predictions.head(10)"
   ]
  },
  {
   "cell_type": "markdown",
   "metadata": {},
   "source": [
    "### Evaluate Naive Predictor"
   ]
  },
  {
   "cell_type": "markdown",
   "metadata": {},
   "source": [
    "\n",
    "If there is no actual value for the country then we should exclude this country from the score. \n",
    "\n",
    "If there is a actual value for the country but we haven't predicted one this should register as a poor score."
   ]
  },
  {
   "cell_type": "code",
   "execution_count": 19,
   "metadata": {},
   "outputs": [],
   "source": [
    "ignore = ['Vanuatu','Tuvalu']\n",
    "mse_result,no_true_value,countries_not_predicted = evaluate.mse_countries(data_test_targets, naive_predictions, ignore)"
   ]
  },
  {
   "cell_type": "code",
   "execution_count": 20,
   "metadata": {},
   "outputs": [
    {
     "name": "stdout",
     "output_type": "stream",
     "text": [
      "MSE for Naive predictor: 21.86175986842105\n",
      "Number of coutries with true value but that had no prediction: 2\n"
     ]
    }
   ],
   "source": [
    "print(\"MSE for Naive predictor:\", mse_result)\n",
    "print(\"Number of coutries with true value but that had no prediction:\", len(countries_not_predicted) )"
   ]
  }
 ],
 "metadata": {
  "kernelspec": {
   "display_name": "Python 3",
   "language": "python",
   "name": "python3"
  },
  "language_info": {
   "codemirror_mode": {
    "name": "ipython",
    "version": 3
   },
   "file_extension": ".py",
   "mimetype": "text/x-python",
   "name": "python",
   "nbconvert_exporter": "python",
   "pygments_lexer": "ipython3",
   "version": "3.7.2"
  }
 },
 "nbformat": 4,
 "nbformat_minor": 2
}
