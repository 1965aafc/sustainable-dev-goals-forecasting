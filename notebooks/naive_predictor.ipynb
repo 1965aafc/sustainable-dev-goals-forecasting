{
 "cells": [
  {
   "cell_type": "code",
   "execution_count": 58,
   "metadata": {},
   "outputs": [],
   "source": [
    "import warnings\n",
    "\n",
    "import pandas as pd\n",
    "import numpy as np"
   ]
  },
  {
   "cell_type": "code",
   "execution_count": 59,
   "metadata": {},
   "outputs": [],
   "source": [
    "input_dir = '.\\\\out\\\\'\n",
    "data_input = \"cleaned_world_bank_data.pkl\"\n",
    "data = pd.read_pickle(input_dir + data_input)\n",
    "\n",
    "test_targets_file = \"test_targets_data.pkl\"\n",
    "test_targets = pd.read_pickle(input_dir + test_targets_file)"
   ]
  },
  {
   "cell_type": "code",
   "execution_count": 60,
   "metadata": {},
   "outputs": [],
   "source": [
    "predict_year = 2010\n",
    "target = 'SI.POV.DDAY'\n",
    "n_avg = 3"
   ]
  },
  {
   "cell_type": "markdown",
   "metadata": {},
   "source": [
    "### Naive Predictor\n",
    "\n",
    "Take the average of the last 'n_avg' values of the target variable"
   ]
  },
  {
   "cell_type": "code",
   "execution_count": 61,
   "metadata": {},
   "outputs": [],
   "source": [
    "#Create an empty output dataframe\n",
    "countries_in_data = list(data.index.levels[0]) \n",
    "naive_predictions = pd.DataFrame(index=countries_in_data, columns=[target])"
   ]
  },
  {
   "cell_type": "code",
   "execution_count": 62,
   "metadata": {},
   "outputs": [],
   "source": [
    "for country in countries_in_data:\n",
    "    with warnings.catch_warnings():\n",
    "        # it's ok that we are getting the mean of empty arrays sometimes. It's the nature of..\n",
    "        #our data that there is a lot of missing data.\n",
    "        warnings.simplefilter(\"ignore\") \n",
    "        naive_predictions.loc[country] = np.nanmean(data.loc[(country,str(predict_year-n_avg-1)):(country,str(predict_year-1)), 'SI.POV.DDAY' ].values)"
   ]
  },
  {
   "cell_type": "code",
   "execution_count": 63,
   "metadata": {},
   "outputs": [
    {
     "data": {
      "text/html": [
       "<div>\n",
       "<style scoped>\n",
       "    .dataframe tbody tr th:only-of-type {\n",
       "        vertical-align: middle;\n",
       "    }\n",
       "\n",
       "    .dataframe tbody tr th {\n",
       "        vertical-align: top;\n",
       "    }\n",
       "\n",
       "    .dataframe thead th {\n",
       "        text-align: right;\n",
       "    }\n",
       "</style>\n",
       "<table border=\"1\" class=\"dataframe\">\n",
       "  <thead>\n",
       "    <tr style=\"text-align: right;\">\n",
       "      <th></th>\n",
       "      <th>SI.POV.DDAY</th>\n",
       "    </tr>\n",
       "  </thead>\n",
       "  <tbody>\n",
       "    <tr>\n",
       "      <th>Afghanistan</th>\n",
       "      <td>NaN</td>\n",
       "    </tr>\n",
       "    <tr>\n",
       "      <th>Albania</th>\n",
       "      <td>0.75</td>\n",
       "    </tr>\n",
       "    <tr>\n",
       "      <th>Algeria</th>\n",
       "      <td>5.8</td>\n",
       "    </tr>\n",
       "    <tr>\n",
       "      <th>American Samoa</th>\n",
       "      <td>NaN</td>\n",
       "    </tr>\n",
       "    <tr>\n",
       "      <th>Andorra</th>\n",
       "      <td>NaN</td>\n",
       "    </tr>\n",
       "    <tr>\n",
       "      <th>Angola</th>\n",
       "      <td>31.2</td>\n",
       "    </tr>\n",
       "    <tr>\n",
       "      <th>Antigua and Barbuda</th>\n",
       "      <td>NaN</td>\n",
       "    </tr>\n",
       "    <tr>\n",
       "      <th>Argentina</th>\n",
       "      <td>2.85</td>\n",
       "    </tr>\n",
       "    <tr>\n",
       "      <th>Armenia</th>\n",
       "      <td>2.325</td>\n",
       "    </tr>\n",
       "    <tr>\n",
       "      <th>Aruba</th>\n",
       "      <td>NaN</td>\n",
       "    </tr>\n",
       "  </tbody>\n",
       "</table>\n",
       "</div>"
      ],
      "text/plain": [
       "                    SI.POV.DDAY\n",
       "Afghanistan                 NaN\n",
       "Albania                    0.75\n",
       "Algeria                     5.8\n",
       "American Samoa              NaN\n",
       "Andorra                     NaN\n",
       "Angola                     31.2\n",
       "Antigua and Barbuda         NaN\n",
       "Argentina                  2.85\n",
       "Armenia                   2.325\n",
       "Aruba                       NaN"
      ]
     },
     "execution_count": 63,
     "metadata": {},
     "output_type": "execute_result"
    }
   ],
   "source": [
    "naive_predictions.head(10)"
   ]
  },
  {
   "cell_type": "markdown",
   "metadata": {},
   "source": [
    "### Evaluate Naive Predictor"
   ]
  },
  {
   "cell_type": "markdown",
   "metadata": {},
   "source": [
    "\n",
    "If there is no actual value for the country then we should exclude this country from the score. \n",
    "\n",
    "If there is a actual value for the country but we haven't predicted one this should register as a poor score."
   ]
  },
  {
   "cell_type": "code",
   "execution_count": 64,
   "metadata": {},
   "outputs": [
    {
     "data": {
      "text/plain": [
       "SI.POV.DDAY    0.325\n",
       "Name: Thailand, dtype: object"
      ]
     },
     "execution_count": 64,
     "metadata": {},
     "output_type": "execute_result"
    }
   ],
   "source": [
    "naive_predictions.loc['Thailand']"
   ]
  },
  {
   "cell_type": "code",
   "execution_count": 65,
   "metadata": {},
   "outputs": [
    {
     "data": {
      "text/plain": [
       "SI.POV.DDAY    0.1\n",
       "Name: Thailand, dtype: object"
      ]
     },
     "execution_count": 65,
     "metadata": {},
     "output_type": "execute_result"
    }
   ],
   "source": [
    "test_targets.loc['Thailand']"
   ]
  },
  {
   "cell_type": "code",
   "execution_count": 17,
   "metadata": {},
   "outputs": [
    {
     "data": {
      "text/plain": [
       "4.54646701388889"
      ]
     },
     "execution_count": 17,
     "metadata": {},
     "output_type": "execute_result"
    }
   ],
   "source": [
    "np.nanmean((naive_predictions - test_targets)**2)"
   ]
  },
  {
   "cell_type": "code",
   "execution_count": null,
   "metadata": {},
   "outputs": [],
   "source": [
    "#mse = ((naive_predictions - B)**2).mean(axis=ax)"
   ]
  },
  {
   "cell_type": "code",
   "execution_count": 66,
   "metadata": {},
   "outputs": [],
   "source": [
    "def mse_countries(true_data, predictions_data, ignore_countries = None):  \n",
    "    \"\"\"\n",
    "    Calculates MSE of country and returns meta data on missing true values and predictions \n",
    "\n",
    "    Args:\n",
    "        true_data: dataframe of  true_data\n",
    "        predictions_data: dataframe of prediction data for comparing with true_data. Needs to be the..\n",
    "                          dimension as true_data.\n",
    "        ignore_countries: Countries to have their predictions ignored. Their predictions are set to NaN\n",
    "    \n",
    "    Returns:\n",
    "        mse: Mean Squared Eror value\n",
    "        countries_no_true_value: list of countries with no true value\n",
    "        countries_no_prediction: list of coutries that have a true value bit no prediction\n",
    "    \"\"\"\n",
    "    predictions_data_local = predictions_data.copy()\n",
    "    \n",
    "    assert(true_data.shape == predictions_data_local.shape), \"Input dataframes need to have same dimensions\"\n",
    "    \n",
    "    if ignore_countries is not None:\n",
    "        predictions_data_local.loc[ignore_countries] = np.NaN\n",
    "    \n",
    "    mse = np.nanmean((predictions_data_local - test_targets)**2)\n",
    "    countries_no_true_value = list(true_data[true_data.isna().values].index)\n",
    "    countries_with_true_value = list(true_data[~true_data.isna().values].index)\n",
    "    total_countries_with_no_prediction = list(predictions_data_local[predictions_data_local.isna().values].index)\n",
    "    #What we are interested in is countries that have real values but no predictions.\n",
    "    countries_no_prediction =  set(countries_with_true_value) & set(total_countries_with_no_prediction)\n",
    "    countries_predicted = set(countries_with_true_value)\n",
    "    return mse, countries_no_true_value, countries_no_prediction"
   ]
  },
  {
   "cell_type": "code",
   "execution_count": 67,
   "metadata": {},
   "outputs": [],
   "source": [
    "mse_result,no_true_value,countries_not_predicted = mse_countries(test_targets, naive_predictions)"
   ]
  },
  {
   "cell_type": "code",
   "execution_count": 68,
   "metadata": {},
   "outputs": [
    {
     "name": "stdout",
     "output_type": "stream",
     "text": [
      "MSE for Naive predictor: 25.038072289156624\n",
      "Number of coutries with true value but that had no prediction: 2\n"
     ]
    }
   ],
   "source": [
    "print(\"MSE for Naive predictor:\", mse_result)\n",
    "print(\"Number of coutries with true value but that had no prediction:\", len(countries_not_predicted) )"
   ]
  }
 ],
 "metadata": {
  "kernelspec": {
   "display_name": "Python 3",
   "language": "python",
   "name": "python3"
  },
  "language_info": {
   "codemirror_mode": {
    "name": "ipython",
    "version": 3
   },
   "file_extension": ".py",
   "mimetype": "text/x-python",
   "name": "python",
   "nbconvert_exporter": "python",
   "pygments_lexer": "ipython3",
   "version": "3.7.2"
  }
 },
 "nbformat": 4,
 "nbformat_minor": 2
}
