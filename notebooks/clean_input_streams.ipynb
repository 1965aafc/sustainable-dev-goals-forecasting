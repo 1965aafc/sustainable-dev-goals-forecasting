{
 "cells": [
  {
   "cell_type": "code",
   "execution_count": 1,
   "metadata": {},
   "outputs": [],
   "source": [
    "import pandas as pd\n",
    "from pycountry import countries"
   ]
  },
  {
   "cell_type": "code",
   "execution_count": 20,
   "metadata": {},
   "outputs": [],
   "source": [
    "data_dir = '.\\\\..\\\\data\\\\'\n",
    "pickle_out_file = 'cleaned_data.pkl'\n",
    "world_bank_file_input = \"world_bank_data\"\n",
    "wb_data = pd.read_pickle(data_dir + world_bank_file_input)"
   ]
  },
  {
   "cell_type": "code",
   "execution_count": 21,
   "metadata": {},
   "outputs": [],
   "source": [
    "#Create list of valid countries taken from the pycountry library\n",
    "#This gives us a list of 249 countries that we will focus on\n",
    "countries_list = []\n",
    "for country in countries:\n",
    "    countries_list.append(country.name)"
   ]
  },
  {
   "cell_type": "markdown",
   "metadata": {},
   "source": [
    "*Let's have a look at regions that are used in the world bank data that are not in the pycountry list:*"
   ]
  },
  {
   "cell_type": "code",
   "execution_count": 22,
   "metadata": {},
   "outputs": [
    {
     "name": "stdout",
     "output_type": "stream",
     "text": [
      "['Arab World', 'Bahamas, The', 'Bolivia', 'British Virgin Islands', 'Caribbean small states', 'Central Europe and the Baltics', 'Channel Islands', 'Congo, Dem. Rep.', 'Congo, Rep.', \"Cote d'Ivoire\", 'Curacao', 'Czech Republic', 'Early-demographic dividend', 'East Asia & Pacific', 'East Asia & Pacific (IDA & IBRD countries)', 'East Asia & Pacific (excluding high income)', 'Egypt, Arab Rep.', 'Eswatini', 'Euro area', 'Europe & Central Asia', 'Europe & Central Asia (IDA & IBRD countries)', 'Europe & Central Asia (excluding high income)', 'European Union', 'Fragile and conflict affected situations', 'Gambia, The', 'Heavily indebted poor countries (HIPC)', 'High income', 'Hong Kong SAR, China', 'IBRD only', 'IDA & IBRD total', 'IDA blend', 'IDA only', 'IDA total', 'Iran, Islamic Rep.', 'Korea, Dem. People’s Rep.', 'Korea, Rep.', 'Kosovo', 'Kyrgyz Republic', 'Lao PDR', 'Late-demographic dividend', 'Latin America & Caribbean', 'Latin America & Caribbean (excluding high income)', 'Latin America & the Caribbean (IDA & IBRD countries)', 'Least developed countries: UN classification', 'Low & middle income', 'Low income', 'Lower middle income', 'Macao SAR, China', 'Micronesia, Fed. Sts.', 'Middle East & North Africa', 'Middle East & North Africa (IDA & IBRD countries)', 'Middle East & North Africa (excluding high income)', 'Middle income', 'Moldova', 'North America', 'North Macedonia', 'Not classified', 'OECD members', 'Other small states', 'Pacific island small states', 'Post-demographic dividend', 'Pre-demographic dividend', 'Slovak Republic', 'Small states', 'South Asia', 'South Asia (IDA & IBRD)', 'St. Kitts and Nevis', 'St. Lucia', 'St. Martin (French part)', 'St. Vincent and the Grenadines', 'Sub-Saharan Africa', 'Sub-Saharan Africa (IDA & IBRD countries)', 'Sub-Saharan Africa (excluding high income)', 'Tanzania', 'Upper middle income', 'Venezuela, RB', 'Vietnam', 'Virgin Islands (U.S.)', 'West Bank and Gaza', 'World', 'Yemen, Rep.']\n"
     ]
    }
   ],
   "source": [
    "exclude_list = [wb_country for wb_country in wb_data.index.levels[0].values if wb_country not in countries_list]\n",
    "print(exclude_list)"
   ]
  },
  {
   "cell_type": "markdown",
   "metadata": {},
   "source": [
    "*Clearly, some of the regions in the list above seem to be countries of interest so we will investigate these further now to see why that are not in the pycountry list*\n",
    "\n",
    "To investigate:  \n",
    "Bahamas, The  \n",
    "Bolivia  \n",
    "British Virgin Islands  \n",
    "Congo, Dem. Rep.  \n",
    "Congo, Rep.  \n",
    "Cote d'Ivoire  \n",
    "Curacao  \n",
    "Czech Republic  \n",
    "Egypt, Arab Rep.  \n",
    "Eswatini  \n",
    "Gambia, The  \n",
    "Hong Kong SAR, China  \n",
    "Iran, Islamic Rep.  \n",
    "Korea, Dem. People’s Rep.  \n",
    "Korea, Rep.  \n",
    "Kosovo  \n",
    "Kyrgyz Republic  \n",
    "Lao PDR  \n",
    "Macao SAR, China  \n",
    "Micronesia, Fed. Sts.  \n",
    "Moldova  \n",
    "North Macedonia  \n",
    "Slovak Republic  \n",
    "St. Kitts and Nevis  \n",
    "St. Lucia  \n",
    "St. Martin (French part)  \n",
    "St. Vincent and the Grenadines  \n",
    "Tanzania  \n",
    "Venezuela, RB  \n",
    "Vietnam  \n",
    "Virgin Islands (U.S.)  \n",
    "West Bank and Gaza  \n",
    "Yemen, Rep.  "
   ]
  },
  {
   "cell_type": "markdown",
   "metadata": {},
   "source": [
    "*After a bit of investigation all of the above seem to fall into 3 categories:*\n",
    "\n",
    "1. Countries that have different names in both lists and the name in the World Bank dataset is clearer or simpler.\n",
    "2. Countries that have different names in both lists and the name in the pycountry library is decided to be the standard for all further processing  (most of the above)\n",
    "3. 'West Bank and Gaza' and 'Kosovo' are not listed in the pycountry list. I will add these to the countries_list seperately."
   ]
  },
  {
   "cell_type": "markdown",
   "metadata": {},
   "source": [
    "*1. Countries that have different names in both lists and the name in the World Bank dataset is clearer or simpler*"
   ]
  },
  {
   "cell_type": "code",
   "execution_count": 23,
   "metadata": {},
   "outputs": [],
   "source": [
    "#Some of the names in the pycountry list could be simplified or made clearer.\n",
    "pycountry_list_transform={\n",
    "#Remove names                      #Replace with these\n",
    "'Bolivia, Plurinational State of' :'Bolivia',\n",
    "'Côte d\\'Ivoire'                  :'Cote d\\'Ivoire',\n",
    "'Curaçao'                         :'Curacao',\n",
    "'Czechia'                         :'Czech Republic',\n",
    "'Viet Nam'                        :'Vietnam'\n",
    "}\n",
    "\n",
    "#remove the old names specifie above dictinary\n",
    "countries_list = [c for c in countries_list if c not in list(pycountry_list_transform.keys()) ]\n",
    "\n",
    "#Add the new names\n",
    "countries_list.extend(list(pycountry_list_transform.values()))"
   ]
  },
  {
   "cell_type": "markdown",
   "metadata": {},
   "source": [
    "*2. Countries that have different names in both lists and the name in the pycountry library is decided to be the standard for all further processing (most of the above)*"
   ]
  },
  {
   "cell_type": "code",
   "execution_count": 24,
   "metadata": {},
   "outputs": [],
   "source": [
    "countries_transform = {\n",
    "'Bahamas, The'                  :'Bahamas',\n",
    "'British Virgin Islands'        :'Virgin Islands, British',\n",
    "'Congo, Dem. Rep.'              :'Congo, The Democratic Republic of the',\n",
    "'Congo, Rep.'                   :'Congo',\n",
    "'Egypt, Arab Rep.'              :'Egypt',\n",
    "'Eswatini'                      :'Swaziland',\n",
    "'Gambia, The'                   :'Gambia',\n",
    "'Hong Kong SAR, China'          :'Hong Kong',\n",
    "'Iran, Islamic Rep.'            :'Iran, Islamic Republic of',\n",
    "'Korea, Dem. People’s Rep.'     :'Korea, Democratic People\\'s Republic of',\n",
    "'Korea, Rep.'                   :'Korea, Republic of',\n",
    "'Kyrgyz Republic'               :'Kyrgyzstan',\n",
    "'Lao PDR'                       :'Lao People\\'s Democratic Republic',\n",
    "'Macao SAR, China'              :'Macao',\n",
    "'Micronesia, Fed. Sts.'         :'Micronesia, Federated States of',\n",
    "'Moldova'                       :'Moldova, Republic of',\n",
    "'North Macedonia'               :'Macedonia, Republic of',\n",
    "'Slovak Republic'               :'Slovakia',\n",
    "'St. Kitts and Nevis'           :'Saint Kitts and Nevis',\n",
    "'St. Lucia'                     :'Saint Lucia',\n",
    "'St. Martin (French part)'      :'Saint Martin (French part)',\n",
    "'St. Vincent and the Grenadines':'Saint Vincent and the Grenadines',\n",
    "'Tanzania'                      :'Tanzania, United Republic of',\n",
    "'Venezuela, RB'                 :'Venezuela, Bolivarian Republic of',\n",
    "'Virgin Islands (U.S.)'         :'Virgin Islands, U.S.',\n",
    "'Yemen, Rep.'                   :'Yemen'}\n",
    "    "
   ]
  },
  {
   "cell_type": "code",
   "execution_count": 11,
   "metadata": {},
   "outputs": [],
   "source": [
    "#Get index as a list, make changes and reapply the list to the World Bank dataframe\n",
    "index_of_wb_countries = list(wb_data.index.levels[0])\n",
    "\n",
    "for remove_region, replace_with_region in countries_transform.items():\n",
    "    index_of_wb_countries[index_of_wb_countries.index(remove_region)] = replace_with_region\n",
    "\n",
    "#reapply the index to the original dataframe\n",
    "wb_data.index = wb_data.index.set_levels(index_of_wb_countries, level=0)"
   ]
  },
  {
   "cell_type": "markdown",
   "metadata": {},
   "source": [
    "*3. 'West Bank and Gaza' and 'Kosovo' are not listed in the pycountry list. I will add these to the countries_list seperately.*"
   ]
  },
  {
   "cell_type": "code",
   "execution_count": 25,
   "metadata": {},
   "outputs": [],
   "source": [
    "add_list = ['West Bank and Gaza', 'Kosovo']\n",
    "\n",
    "countries_list.extend(add_list)"
   ]
  },
  {
   "cell_type": "markdown",
   "metadata": {},
   "source": [
    "*Have another look at what regions are going to be excluded:*"
   ]
  },
  {
   "cell_type": "code",
   "execution_count": 26,
   "metadata": {},
   "outputs": [
    {
     "name": "stdout",
     "output_type": "stream",
     "text": [
      "['Arab World', 'Bahamas, The', 'British Virgin Islands', 'Caribbean small states', 'Central Europe and the Baltics', 'Channel Islands', 'Congo, Dem. Rep.', 'Congo, Rep.', 'Early-demographic dividend', 'East Asia & Pacific', 'East Asia & Pacific (IDA & IBRD countries)', 'East Asia & Pacific (excluding high income)', 'Egypt, Arab Rep.', 'Eswatini', 'Euro area', 'Europe & Central Asia', 'Europe & Central Asia (IDA & IBRD countries)', 'Europe & Central Asia (excluding high income)', 'European Union', 'Fragile and conflict affected situations', 'Gambia, The', 'Heavily indebted poor countries (HIPC)', 'High income', 'Hong Kong SAR, China', 'IBRD only', 'IDA & IBRD total', 'IDA blend', 'IDA only', 'IDA total', 'Iran, Islamic Rep.', 'Korea, Dem. People’s Rep.', 'Korea, Rep.', 'Kyrgyz Republic', 'Lao PDR', 'Late-demographic dividend', 'Latin America & Caribbean', 'Latin America & Caribbean (excluding high income)', 'Latin America & the Caribbean (IDA & IBRD countries)', 'Least developed countries: UN classification', 'Low & middle income', 'Low income', 'Lower middle income', 'Macao SAR, China', 'Micronesia, Fed. Sts.', 'Middle East & North Africa', 'Middle East & North Africa (IDA & IBRD countries)', 'Middle East & North Africa (excluding high income)', 'Middle income', 'Moldova', 'North America', 'North Macedonia', 'Not classified', 'OECD members', 'Other small states', 'Pacific island small states', 'Post-demographic dividend', 'Pre-demographic dividend', 'Slovak Republic', 'Small states', 'South Asia', 'South Asia (IDA & IBRD)', 'St. Kitts and Nevis', 'St. Lucia', 'St. Martin (French part)', 'St. Vincent and the Grenadines', 'Sub-Saharan Africa', 'Sub-Saharan Africa (IDA & IBRD countries)', 'Sub-Saharan Africa (excluding high income)', 'Tanzania', 'Upper middle income', 'Venezuela, RB', 'Virgin Islands (U.S.)', 'World', 'Yemen, Rep.']\n"
     ]
    }
   ],
   "source": [
    "new_exclude_list = [wb_country for wb_country in wb_data.index.levels[0].values if wb_country not in countries_list]\n",
    "print(new_exclude_list)"
   ]
  },
  {
   "cell_type": "markdown",
   "metadata": {},
   "source": [
    "*Now that we have built up our countries_list and refactored the World Bank dataframes country index, it is time to apply the filter to the World bank dataframe.*"
   ]
  },
  {
   "cell_type": "code",
   "execution_count": 27,
   "metadata": {},
   "outputs": [],
   "source": [
    "include_list = countries_list\n",
    "wb_data_countries_only = wb_data.loc[include_list]"
   ]
  },
  {
   "cell_type": "code",
   "execution_count": 28,
   "metadata": {},
   "outputs": [],
   "source": [
    "#A little bit of dataframe butchery here!!\n",
    "#For some reason after the dataframe subset creation above, the index of the new..\n",
    "#dataframe was the same as the original. Below is a way of getting around this..\n",
    "#(i.e. by generating a new one using reset_index/set_index)\n",
    "temp_data = wb_data_countries_only.reset_index()\n",
    "filtered_data = temp_data.set_index(['country', 'year'])"
   ]
  },
  {
   "cell_type": "markdown",
   "metadata": {},
   "source": [
    "*Summary of Missing Data:*"
   ]
  },
  {
   "cell_type": "code",
   "execution_count": 29,
   "metadata": {
    "scrolled": true
   },
   "outputs": [
    {
     "data": {
      "text/plain": [
       "SI.POV.DDAY          0.846585\n",
       "SI.POV.GINI          0.847368\n",
       "EN.POP.SLUM.UR.ZS    0.955207\n",
       "SI.SPR.PC40          0.980515\n",
       "SE.PRM.UNER          0.595185\n",
       "SE.XPD.TOTL.GD.ZS    0.636170\n",
       "SL.TLF.TOTL.IN       0.468533\n",
       "NY.GDP.MKTP.KD.ZG    0.209295\n",
       "SP.URB.TOTL.IN.ZS    0.031131\n",
       "dtype: float64"
      ]
     },
     "execution_count": 29,
     "metadata": {},
     "output_type": "execute_result"
    }
   ],
   "source": [
    "filtered_data.isna().sum()/filtered_data.shape[0]"
   ]
  },
  {
   "cell_type": "code",
   "execution_count": 30,
   "metadata": {},
   "outputs": [],
   "source": [
    "#According to pandas docs on multiIndex usage: For objects to be indexed and sliced effectively, they need to be sorted.\n",
    "filtered_data = filtered_data.sort_index()"
   ]
  },
  {
   "cell_type": "markdown",
   "metadata": {},
   "source": [
    "### Write Files to disk"
   ]
  },
  {
   "cell_type": "code",
   "execution_count": 31,
   "metadata": {},
   "outputs": [],
   "source": [
    "#Write the original dataset filtered to include only countries\n",
    "filtered_data.to_pickle(data_dir + pickle_out_file)"
   ]
  },
  {
   "cell_type": "markdown",
   "metadata": {},
   "source": [
    "### Globals"
   ]
  },
  {
   "cell_type": "code",
   "execution_count": 104,
   "metadata": {},
   "outputs": [],
   "source": [
    "target = 'SI.POV.DDAY'\n",
    "regressors = list(filtered_data.columns)\n",
    "predict_year=2010"
   ]
  },
  {
   "cell_type": "markdown",
   "metadata": {},
   "source": [
    "### Fill in Missing Values"
   ]
  },
  {
   "cell_type": "markdown",
   "metadata": {},
   "source": [
    "Use straightforward forward fill method to fill in missing values to allow for Linear Regression"
   ]
  },
  {
   "cell_type": "code",
   "execution_count": 27,
   "metadata": {},
   "outputs": [],
   "source": [
    "for country in countries_in_orig_data:\n",
    "    filtered_data.loc[country, 'SI.POV.GINI':].fillna(method='ffill',inplace=True)\n",
    "    \n",
    "for country in countries_in_orig_data:\n",
    "    filtered_data.loc[country, 'SI.POV.GINI':].fillna(method='bfill',inplace=True)\n"
   ]
  },
  {
   "cell_type": "code",
   "execution_count": 72,
   "metadata": {},
   "outputs": [],
   "source": [
    "#Above we did not fill data for the target variable\n",
    "#But it is probably worth doing so up but not including the year that we are predicting\n",
    "for country in countries_in_orig_data:\n",
    "    filtered_data.loc[(country):(country, str(predict_year-1)), target].fillna(method='ffill',inplace=True)\n",
    "\n",
    "for country in countries_in_orig_data:\n",
    "    filtered_data.loc[(country):(country, str(predict_year-1)), target].fillna(method='bfill',inplace=True)"
   ]
  },
  {
   "cell_type": "markdown",
   "metadata": {},
   "source": [
    "### Reorganise the data into overlapping window frames\n",
    "\n",
    "For consumption by the machine forecasting algo we reorganise the dataframe to be a 3 layer multilevel index dataframe: Country, Frame, Year."
   ]
  },
  {
   "cell_type": "code",
   "execution_count": 74,
   "metadata": {},
   "outputs": [],
   "source": [
    "countries_in_orig_data = list(filtered_data.index.levels[0]) "
   ]
  },
  {
   "cell_type": "code",
   "execution_count": 75,
   "metadata": {},
   "outputs": [],
   "source": [
    "lag = 5\n",
    "diff = 1\n",
    "number_of_windows=3"
   ]
  },
  {
   "cell_type": "code",
   "execution_count": 76,
   "metadata": {},
   "outputs": [],
   "source": [
    "#Create an empty test and training dataframes\n",
    "regressors_index = pd.MultiIndex(levels=[[],[],[]],\n",
    "                            codes=[[],[],[]],\n",
    "                            names=[u'country', u'window', u'lag'])\n",
    "target_index = pd.MultiIndex(levels=[[],[]],\n",
    "                           codes=[[],[]],\n",
    "                           names=[u'country', u'window'])\n",
    "test_regressors_index =  pd.MultiIndex(levels=[[],[]],\n",
    "                           codes=[[],[]],\n",
    "                           names=[u'country', u'lag'])\n",
    "test_target_index = countries_in_orig_data\n",
    "\n",
    "\n",
    "columns_spilt = regressors\n",
    "training_data_regressors = pd.DataFrame(index=regressors_index, columns=columns_spilt)\n",
    "training_data_targets = pd.DataFrame(index=target_index, columns=[target])\n",
    "test_data_regressors = pd.DataFrame(index=test_regressors_index, columns=columns_spilt)\n",
    "test_data_targets = pd.DataFrame(index=test_target_index, columns=[target])"
   ]
  },
  {
   "cell_type": "code",
   "execution_count": 77,
   "metadata": {},
   "outputs": [],
   "source": [
    "#fill out the training dataframes : training_data_regressors and training_data_targets\n",
    "#..and the testing dataframes     : test_data_regressors and test_data_targets\n",
    "for country in countries_in_orig_data:\n",
    "    test_data_targets.loc[country, target] =  filtered_data.loc[(country,str(predict_year)), target]\n",
    "    \n",
    "    for l in range(1,lag+1):\n",
    "        year = predict_year - l\n",
    "        test_data_regressors.loc[(country,l),:] = filtered_data.loc[(country,str(year)), regressors]  \n",
    "    \n",
    "    for window in range(1,number_of_windows+1):\n",
    "        year= predict_year - window       \n",
    "        #Add the target value for the spilt to the test_data \n",
    "        training_data_targets.loc[(country, window),:] = filtered_data.loc[(country,str(year)), target]\n",
    "        for l in range(1,lag+1):\n",
    "            year = year -1\n",
    "            training_data_regressors.loc[(country,window,l),:] = filtered_data.loc[(country,str(year)), regressors]  \n",
    "                        "
   ]
  },
  {
   "cell_type": "code",
   "execution_count": 78,
   "metadata": {},
   "outputs": [],
   "source": [
    "#According to pandas docs on multiIndex usage: For objects to be indexed and sliced effectively, they need to be sorted.\n",
    "training_data_regressors = training_data_regressors.sort_index()\n",
    "training_data_targets = training_data_targets.sort_index()\n",
    "test_data_targets = test_data_targets.sort_index()"
   ]
  },
  {
   "cell_type": "markdown",
   "metadata": {},
   "source": [
    "*Note on efficiency: If needed when the datasets get bigger the above 3 loop copy can be made faster.  It is writing overlapping windows from one dataframe to another so unless there is a major overhaul we probably need to hold on to one of the for loops but the other 2 can go.*\n",
    "\n",
    "*1. (Straightforward) The inner-most for loop can be replaced by copying a block of 'lag' rows in one go.*  \n",
    "*2. (a bit trickier) The outerr-most loop (countries) could be replaced by placing it inside of the split loop and copying one split each for all the countries in one go.*"
   ]
  },
  {
   "cell_type": "code",
   "execution_count": 79,
   "metadata": {},
   "outputs": [],
   "source": [
    "#unstacking the input features. Each row will now represent a set of features.\n",
    "training_data_regressors  = training_data_regressors.unstack(level=2)\n",
    "test_data_regressors  = test_data_regressors.unstack(level=1)"
   ]
  },
  {
   "cell_type": "code",
   "execution_count": 80,
   "metadata": {},
   "outputs": [
    {
     "data": {
      "text/plain": [
       "(648, 45)"
      ]
     },
     "execution_count": 80,
     "metadata": {},
     "output_type": "execute_result"
    }
   ],
   "source": [
    "training_data_regressors.shape"
   ]
  },
  {
   "cell_type": "code",
   "execution_count": 81,
   "metadata": {},
   "outputs": [
    {
     "data": {
      "text/plain": [
       "                   lag\n",
       "SI.POV.DDAY        1      177\n",
       "                   2      177\n",
       "                   3      177\n",
       "                   4      177\n",
       "                   5      177\n",
       "SI.POV.GINI        1      156\n",
       "                   2      156\n",
       "                   3      156\n",
       "                   4      156\n",
       "                   5      156\n",
       "EN.POP.SLUM.UR.ZS  1      330\n",
       "                   2      330\n",
       "                   3      330\n",
       "                   4      330\n",
       "                   5      330\n",
       "SI.SPR.PC40        1      369\n",
       "                   2      369\n",
       "                   3      369\n",
       "                   4      369\n",
       "                   5      369\n",
       "SE.PRM.UNER        1       72\n",
       "                   2       72\n",
       "                   3       72\n",
       "                   4       72\n",
       "                   5       72\n",
       "SE.XPD.TOTL.GD.ZS  1       57\n",
       "                   2       57\n",
       "                   3       57\n",
       "                   4       57\n",
       "                   5       57\n",
       "SL.TLF.TOTL.IN     1       90\n",
       "                   2       90\n",
       "                   3       90\n",
       "                   4       90\n",
       "                   5       90\n",
       "NY.GDP.MKTP.KD.ZG  1       21\n",
       "                   2       21\n",
       "                   3       21\n",
       "                   4       21\n",
       "                   5       21\n",
       "SP.URB.TOTL.IN.ZS  1        6\n",
       "                   2        6\n",
       "                   3        6\n",
       "                   4        6\n",
       "                   5        6\n",
       "dtype: int64"
      ]
     },
     "execution_count": 81,
     "metadata": {},
     "output_type": "execute_result"
    }
   ],
   "source": [
    "training_data_regressors.isna().sum()"
   ]
  },
  {
   "cell_type": "markdown",
   "metadata": {},
   "source": [
    "### Output data structures\n",
    "\n",
    "Training data: The regressors dataframe and the targets dataframe have the same number of row as each row of the regressor represents a set of features with matching target variable in the equivalent row of the tatget dataframe.\n",
    "\n",
    "Test data: There is one target for each country for the target year. This will be later compared to the output of the forecast algos to measure performance."
   ]
  },
  {
   "cell_type": "code",
   "execution_count": 82,
   "metadata": {},
   "outputs": [
    {
     "data": {
      "text/plain": [
       "(648, 45)"
      ]
     },
     "execution_count": 82,
     "metadata": {},
     "output_type": "execute_result"
    }
   ],
   "source": [
    "training_data_regressors.shape"
   ]
  },
  {
   "cell_type": "code",
   "execution_count": 83,
   "metadata": {},
   "outputs": [
    {
     "data": {
      "text/html": [
       "<div>\n",
       "<style scoped>\n",
       "    .dataframe tbody tr th:only-of-type {\n",
       "        vertical-align: middle;\n",
       "    }\n",
       "\n",
       "    .dataframe tbody tr th {\n",
       "        vertical-align: top;\n",
       "    }\n",
       "\n",
       "    .dataframe thead tr th {\n",
       "        text-align: left;\n",
       "    }\n",
       "\n",
       "    .dataframe thead tr:last-of-type th {\n",
       "        text-align: right;\n",
       "    }\n",
       "</style>\n",
       "<table border=\"1\" class=\"dataframe\">\n",
       "  <thead>\n",
       "    <tr>\n",
       "      <th></th>\n",
       "      <th></th>\n",
       "      <th colspan=\"5\" halign=\"left\">SI.POV.DDAY</th>\n",
       "      <th colspan=\"5\" halign=\"left\">SI.POV.GINI</th>\n",
       "      <th>...</th>\n",
       "      <th colspan=\"5\" halign=\"left\">NY.GDP.MKTP.KD.ZG</th>\n",
       "      <th colspan=\"5\" halign=\"left\">SP.URB.TOTL.IN.ZS</th>\n",
       "    </tr>\n",
       "    <tr>\n",
       "      <th></th>\n",
       "      <th>lag</th>\n",
       "      <th>1</th>\n",
       "      <th>2</th>\n",
       "      <th>3</th>\n",
       "      <th>4</th>\n",
       "      <th>5</th>\n",
       "      <th>1</th>\n",
       "      <th>2</th>\n",
       "      <th>3</th>\n",
       "      <th>4</th>\n",
       "      <th>5</th>\n",
       "      <th>...</th>\n",
       "      <th>1</th>\n",
       "      <th>2</th>\n",
       "      <th>3</th>\n",
       "      <th>4</th>\n",
       "      <th>5</th>\n",
       "      <th>1</th>\n",
       "      <th>2</th>\n",
       "      <th>3</th>\n",
       "      <th>4</th>\n",
       "      <th>5</th>\n",
       "    </tr>\n",
       "    <tr>\n",
       "      <th>country</th>\n",
       "      <th>window</th>\n",
       "      <th></th>\n",
       "      <th></th>\n",
       "      <th></th>\n",
       "      <th></th>\n",
       "      <th></th>\n",
       "      <th></th>\n",
       "      <th></th>\n",
       "      <th></th>\n",
       "      <th></th>\n",
       "      <th></th>\n",
       "      <th></th>\n",
       "      <th></th>\n",
       "      <th></th>\n",
       "      <th></th>\n",
       "      <th></th>\n",
       "      <th></th>\n",
       "      <th></th>\n",
       "      <th></th>\n",
       "      <th></th>\n",
       "      <th></th>\n",
       "      <th></th>\n",
       "    </tr>\n",
       "  </thead>\n",
       "  <tbody>\n",
       "    <tr>\n",
       "      <th rowspan=\"3\" valign=\"top\">Afghanistan</th>\n",
       "      <th>1</th>\n",
       "      <td>NaN</td>\n",
       "      <td>NaN</td>\n",
       "      <td>NaN</td>\n",
       "      <td>NaN</td>\n",
       "      <td>NaN</td>\n",
       "      <td>NaN</td>\n",
       "      <td>NaN</td>\n",
       "      <td>NaN</td>\n",
       "      <td>NaN</td>\n",
       "      <td>NaN</td>\n",
       "      <td>...</td>\n",
       "      <td>3.92498</td>\n",
       "      <td>13.8263</td>\n",
       "      <td>5.3574</td>\n",
       "      <td>11.2297</td>\n",
       "      <td>1.41412</td>\n",
       "      <td>23.32</td>\n",
       "      <td>23.113</td>\n",
       "      <td>22.907</td>\n",
       "      <td>22.703</td>\n",
       "      <td>22.5</td>\n",
       "    </tr>\n",
       "    <tr>\n",
       "      <th>2</th>\n",
       "      <td>NaN</td>\n",
       "      <td>NaN</td>\n",
       "      <td>NaN</td>\n",
       "      <td>NaN</td>\n",
       "      <td>NaN</td>\n",
       "      <td>NaN</td>\n",
       "      <td>NaN</td>\n",
       "      <td>NaN</td>\n",
       "      <td>NaN</td>\n",
       "      <td>NaN</td>\n",
       "      <td>...</td>\n",
       "      <td>13.8263</td>\n",
       "      <td>5.3574</td>\n",
       "      <td>11.2297</td>\n",
       "      <td>1.41412</td>\n",
       "      <td>8.83228</td>\n",
       "      <td>23.113</td>\n",
       "      <td>22.907</td>\n",
       "      <td>22.703</td>\n",
       "      <td>22.5</td>\n",
       "      <td>22.353</td>\n",
       "    </tr>\n",
       "    <tr>\n",
       "      <th>3</th>\n",
       "      <td>NaN</td>\n",
       "      <td>NaN</td>\n",
       "      <td>NaN</td>\n",
       "      <td>NaN</td>\n",
       "      <td>NaN</td>\n",
       "      <td>NaN</td>\n",
       "      <td>NaN</td>\n",
       "      <td>NaN</td>\n",
       "      <td>NaN</td>\n",
       "      <td>NaN</td>\n",
       "      <td>...</td>\n",
       "      <td>5.3574</td>\n",
       "      <td>11.2297</td>\n",
       "      <td>1.41412</td>\n",
       "      <td>8.83228</td>\n",
       "      <td>8.83228</td>\n",
       "      <td>22.907</td>\n",
       "      <td>22.703</td>\n",
       "      <td>22.5</td>\n",
       "      <td>22.353</td>\n",
       "      <td>22.261</td>\n",
       "    </tr>\n",
       "    <tr>\n",
       "      <th rowspan=\"3\" valign=\"top\">Albania</th>\n",
       "      <th>1</th>\n",
       "      <td>0.4</td>\n",
       "      <td>1.1</td>\n",
       "      <td>1.1</td>\n",
       "      <td>1.1</td>\n",
       "      <td>2</td>\n",
       "      <td>30</td>\n",
       "      <td>30.6</td>\n",
       "      <td>30.6</td>\n",
       "      <td>30.6</td>\n",
       "      <td>31.7</td>\n",
       "      <td>...</td>\n",
       "      <td>7.5</td>\n",
       "      <td>5.98</td>\n",
       "      <td>5.9</td>\n",
       "      <td>5.53</td>\n",
       "      <td>5.51</td>\n",
       "      <td>49.991</td>\n",
       "      <td>48.902</td>\n",
       "      <td>47.815</td>\n",
       "      <td>46.731</td>\n",
       "      <td>45.651</td>\n",
       "    </tr>\n",
       "    <tr>\n",
       "      <th>2</th>\n",
       "      <td>1.1</td>\n",
       "      <td>1.1</td>\n",
       "      <td>1.1</td>\n",
       "      <td>2</td>\n",
       "      <td>2</td>\n",
       "      <td>30.6</td>\n",
       "      <td>30.6</td>\n",
       "      <td>30.6</td>\n",
       "      <td>31.7</td>\n",
       "      <td>31.7</td>\n",
       "      <td>...</td>\n",
       "      <td>5.98</td>\n",
       "      <td>5.9</td>\n",
       "      <td>5.53</td>\n",
       "      <td>5.51</td>\n",
       "      <td>5.53</td>\n",
       "      <td>48.902</td>\n",
       "      <td>47.815</td>\n",
       "      <td>46.731</td>\n",
       "      <td>45.651</td>\n",
       "      <td>44.573</td>\n",
       "    </tr>\n",
       "    <tr>\n",
       "      <th>3</th>\n",
       "      <td>1.1</td>\n",
       "      <td>1.1</td>\n",
       "      <td>2</td>\n",
       "      <td>2</td>\n",
       "      <td>2</td>\n",
       "      <td>30.6</td>\n",
       "      <td>30.6</td>\n",
       "      <td>31.7</td>\n",
       "      <td>31.7</td>\n",
       "      <td>31.7</td>\n",
       "      <td>...</td>\n",
       "      <td>5.9</td>\n",
       "      <td>5.53</td>\n",
       "      <td>5.51</td>\n",
       "      <td>5.53</td>\n",
       "      <td>4.54</td>\n",
       "      <td>47.815</td>\n",
       "      <td>46.731</td>\n",
       "      <td>45.651</td>\n",
       "      <td>44.573</td>\n",
       "      <td>43.501</td>\n",
       "    </tr>\n",
       "    <tr>\n",
       "      <th rowspan=\"3\" valign=\"top\">Algeria</th>\n",
       "      <th>1</th>\n",
       "      <td>5.8</td>\n",
       "      <td>5.8</td>\n",
       "      <td>5.8</td>\n",
       "      <td>5.8</td>\n",
       "      <td>5.8</td>\n",
       "      <td>35.3</td>\n",
       "      <td>35.3</td>\n",
       "      <td>35.3</td>\n",
       "      <td>35.3</td>\n",
       "      <td>35.3</td>\n",
       "      <td>...</td>\n",
       "      <td>2.36013</td>\n",
       "      <td>3.37288</td>\n",
       "      <td>1.68449</td>\n",
       "      <td>5.90779</td>\n",
       "      <td>4.30162</td>\n",
       "      <td>66.097</td>\n",
       "      <td>65.348</td>\n",
       "      <td>64.593</td>\n",
       "      <td>63.83</td>\n",
       "      <td>63.061</td>\n",
       "    </tr>\n",
       "    <tr>\n",
       "      <th>2</th>\n",
       "      <td>5.8</td>\n",
       "      <td>5.8</td>\n",
       "      <td>5.8</td>\n",
       "      <td>5.8</td>\n",
       "      <td>5.8</td>\n",
       "      <td>35.3</td>\n",
       "      <td>35.3</td>\n",
       "      <td>35.3</td>\n",
       "      <td>35.3</td>\n",
       "      <td>35.3</td>\n",
       "      <td>...</td>\n",
       "      <td>3.37288</td>\n",
       "      <td>1.68449</td>\n",
       "      <td>5.90779</td>\n",
       "      <td>4.30162</td>\n",
       "      <td>7.20187</td>\n",
       "      <td>65.348</td>\n",
       "      <td>64.593</td>\n",
       "      <td>63.83</td>\n",
       "      <td>63.061</td>\n",
       "      <td>62.284</td>\n",
       "    </tr>\n",
       "    <tr>\n",
       "      <th>3</th>\n",
       "      <td>5.8</td>\n",
       "      <td>5.8</td>\n",
       "      <td>5.8</td>\n",
       "      <td>5.8</td>\n",
       "      <td>5.8</td>\n",
       "      <td>35.3</td>\n",
       "      <td>35.3</td>\n",
       "      <td>35.3</td>\n",
       "      <td>35.3</td>\n",
       "      <td>35.3</td>\n",
       "      <td>...</td>\n",
       "      <td>1.68449</td>\n",
       "      <td>5.90779</td>\n",
       "      <td>4.30162</td>\n",
       "      <td>7.20187</td>\n",
       "      <td>5.60932</td>\n",
       "      <td>64.593</td>\n",
       "      <td>63.83</td>\n",
       "      <td>63.061</td>\n",
       "      <td>62.284</td>\n",
       "      <td>61.501</td>\n",
       "    </tr>\n",
       "    <tr>\n",
       "      <th>American Samoa</th>\n",
       "      <th>1</th>\n",
       "      <td>NaN</td>\n",
       "      <td>NaN</td>\n",
       "      <td>NaN</td>\n",
       "      <td>NaN</td>\n",
       "      <td>NaN</td>\n",
       "      <td>NaN</td>\n",
       "      <td>NaN</td>\n",
       "      <td>NaN</td>\n",
       "      <td>NaN</td>\n",
       "      <td>NaN</td>\n",
       "      <td>...</td>\n",
       "      <td>-2.61348</td>\n",
       "      <td>1.96353</td>\n",
       "      <td>-4.16667</td>\n",
       "      <td>-0.401606</td>\n",
       "      <td>0.538358</td>\n",
       "      <td>87.799</td>\n",
       "      <td>87.9</td>\n",
       "      <td>88</td>\n",
       "      <td>88.1</td>\n",
       "      <td>88.198</td>\n",
       "    </tr>\n",
       "  </tbody>\n",
       "</table>\n",
       "<p>10 rows × 45 columns</p>\n",
       "</div>"
      ],
      "text/plain": [
       "                      SI.POV.DDAY                     SI.POV.GINI              \\\n",
       "lag                             1    2    3    4    5           1     2     3   \n",
       "country        window                                                           \n",
       "Afghanistan    1              NaN  NaN  NaN  NaN  NaN         NaN   NaN   NaN   \n",
       "               2              NaN  NaN  NaN  NaN  NaN         NaN   NaN   NaN   \n",
       "               3              NaN  NaN  NaN  NaN  NaN         NaN   NaN   NaN   \n",
       "Albania        1              0.4  1.1  1.1  1.1    2          30  30.6  30.6   \n",
       "               2              1.1  1.1  1.1    2    2        30.6  30.6  30.6   \n",
       "               3              1.1  1.1    2    2    2        30.6  30.6  31.7   \n",
       "Algeria        1              5.8  5.8  5.8  5.8  5.8        35.3  35.3  35.3   \n",
       "               2              5.8  5.8  5.8  5.8  5.8        35.3  35.3  35.3   \n",
       "               3              5.8  5.8  5.8  5.8  5.8        35.3  35.3  35.3   \n",
       "American Samoa 1              NaN  NaN  NaN  NaN  NaN         NaN   NaN   NaN   \n",
       "\n",
       "                                   ... NY.GDP.MKTP.KD.ZG                    \\\n",
       "lag                       4     5  ...                 1        2        3   \n",
       "country        window              ...                                       \n",
       "Afghanistan    1        NaN   NaN  ...           3.92498  13.8263   5.3574   \n",
       "               2        NaN   NaN  ...           13.8263   5.3574  11.2297   \n",
       "               3        NaN   NaN  ...            5.3574  11.2297  1.41412   \n",
       "Albania        1       30.6  31.7  ...               7.5     5.98      5.9   \n",
       "               2       31.7  31.7  ...              5.98      5.9     5.53   \n",
       "               3       31.7  31.7  ...               5.9     5.53     5.51   \n",
       "Algeria        1       35.3  35.3  ...           2.36013  3.37288  1.68449   \n",
       "               2       35.3  35.3  ...           3.37288  1.68449  5.90779   \n",
       "               3       35.3  35.3  ...           1.68449  5.90779  4.30162   \n",
       "American Samoa 1        NaN   NaN  ...          -2.61348  1.96353 -4.16667   \n",
       "\n",
       "                                          SP.URB.TOTL.IN.ZS                  \\\n",
       "lag                           4         5                 1       2       3   \n",
       "country        window                                                         \n",
       "Afghanistan    1        11.2297   1.41412             23.32  23.113  22.907   \n",
       "               2        1.41412   8.83228            23.113  22.907  22.703   \n",
       "               3        8.83228   8.83228            22.907  22.703    22.5   \n",
       "Albania        1           5.53      5.51            49.991  48.902  47.815   \n",
       "               2           5.51      5.53            48.902  47.815  46.731   \n",
       "               3           5.53      4.54            47.815  46.731  45.651   \n",
       "Algeria        1        5.90779   4.30162            66.097  65.348  64.593   \n",
       "               2        4.30162   7.20187            65.348  64.593   63.83   \n",
       "               3        7.20187   5.60932            64.593   63.83  63.061   \n",
       "American Samoa 1      -0.401606  0.538358            87.799    87.9      88   \n",
       "\n",
       "                                       \n",
       "lag                         4       5  \n",
       "country        window                  \n",
       "Afghanistan    1       22.703    22.5  \n",
       "               2         22.5  22.353  \n",
       "               3       22.353  22.261  \n",
       "Albania        1       46.731  45.651  \n",
       "               2       45.651  44.573  \n",
       "               3       44.573  43.501  \n",
       "Algeria        1        63.83  63.061  \n",
       "               2       63.061  62.284  \n",
       "               3       62.284  61.501  \n",
       "American Samoa 1         88.1  88.198  \n",
       "\n",
       "[10 rows x 45 columns]"
      ]
     },
     "execution_count": 83,
     "metadata": {},
     "output_type": "execute_result"
    }
   ],
   "source": [
    "training_data_regressors.head(10)"
   ]
  },
  {
   "cell_type": "code",
   "execution_count": 54,
   "metadata": {},
   "outputs": [
    {
     "data": {
      "text/plain": [
       "(648, 1)"
      ]
     },
     "execution_count": 54,
     "metadata": {},
     "output_type": "execute_result"
    }
   ],
   "source": [
    "training_data_targets.shape"
   ]
  },
  {
   "cell_type": "code",
   "execution_count": 55,
   "metadata": {},
   "outputs": [
    {
     "data": {
      "text/html": [
       "<div>\n",
       "<style scoped>\n",
       "    .dataframe tbody tr th:only-of-type {\n",
       "        vertical-align: middle;\n",
       "    }\n",
       "\n",
       "    .dataframe tbody tr th {\n",
       "        vertical-align: top;\n",
       "    }\n",
       "\n",
       "    .dataframe thead th {\n",
       "        text-align: right;\n",
       "    }\n",
       "</style>\n",
       "<table border=\"1\" class=\"dataframe\">\n",
       "  <thead>\n",
       "    <tr style=\"text-align: right;\">\n",
       "      <th></th>\n",
       "      <th></th>\n",
       "      <th>SI.POV.DDAY</th>\n",
       "    </tr>\n",
       "    <tr>\n",
       "      <th>country</th>\n",
       "      <th>window</th>\n",
       "      <th></th>\n",
       "    </tr>\n",
       "  </thead>\n",
       "  <tbody>\n",
       "    <tr>\n",
       "      <th rowspan=\"3\" valign=\"top\">Afghanistan</th>\n",
       "      <th>1</th>\n",
       "      <td>NaN</td>\n",
       "    </tr>\n",
       "    <tr>\n",
       "      <th>2</th>\n",
       "      <td>NaN</td>\n",
       "    </tr>\n",
       "    <tr>\n",
       "      <th>3</th>\n",
       "      <td>NaN</td>\n",
       "    </tr>\n",
       "    <tr>\n",
       "      <th rowspan=\"3\" valign=\"top\">Albania</th>\n",
       "      <th>1</th>\n",
       "      <td>NaN</td>\n",
       "    </tr>\n",
       "    <tr>\n",
       "      <th>2</th>\n",
       "      <td>0.4</td>\n",
       "    </tr>\n",
       "    <tr>\n",
       "      <th>3</th>\n",
       "      <td>NaN</td>\n",
       "    </tr>\n",
       "    <tr>\n",
       "      <th rowspan=\"3\" valign=\"top\">Algeria</th>\n",
       "      <th>1</th>\n",
       "      <td>NaN</td>\n",
       "    </tr>\n",
       "    <tr>\n",
       "      <th>2</th>\n",
       "      <td>NaN</td>\n",
       "    </tr>\n",
       "    <tr>\n",
       "      <th>3</th>\n",
       "      <td>NaN</td>\n",
       "    </tr>\n",
       "    <tr>\n",
       "      <th>American Samoa</th>\n",
       "      <th>1</th>\n",
       "      <td>NaN</td>\n",
       "    </tr>\n",
       "  </tbody>\n",
       "</table>\n",
       "</div>"
      ],
      "text/plain": [
       "                      SI.POV.DDAY\n",
       "country        window            \n",
       "Afghanistan    1              NaN\n",
       "               2              NaN\n",
       "               3              NaN\n",
       "Albania        1              NaN\n",
       "               2              0.4\n",
       "               3              NaN\n",
       "Algeria        1              NaN\n",
       "               2              NaN\n",
       "               3              NaN\n",
       "American Samoa 1              NaN"
      ]
     },
     "execution_count": 55,
     "metadata": {},
     "output_type": "execute_result"
    }
   ],
   "source": [
    "training_data_targets.head(10)"
   ]
  },
  {
   "cell_type": "markdown",
   "metadata": {},
   "source": []
  },
  {
   "cell_type": "code",
   "execution_count": 84,
   "metadata": {},
   "outputs": [],
   "source": []
  },
  {
   "cell_type": "code",
   "execution_count": 85,
   "metadata": {},
   "outputs": [],
   "source": [
    "#Write the time series window data (ready for the forecasting algos)\n",
    "training_data_regressors.to_pickle(out_dir + train_regressors_out_file)\n",
    "training_data_targets.to_pickle(out_dir + train_targets_out_file)\n",
    "test_data_regressors.to_pickle(out_dir + test_regressors_out_file)\n",
    "test_data_targets.to_pickle(out_dir + test_targets_out_file)"
   ]
  }
 ],
 "metadata": {
  "kernelspec": {
   "display_name": "Python 3",
   "language": "python",
   "name": "python3"
  },
  "language_info": {
   "codemirror_mode": {
    "name": "ipython",
    "version": 3
   },
   "file_extension": ".py",
   "mimetype": "text/x-python",
   "name": "python",
   "nbconvert_exporter": "python",
   "pygments_lexer": "ipython3",
   "version": "3.7.2"
  }
 },
 "nbformat": 4,
 "nbformat_minor": 2
}
