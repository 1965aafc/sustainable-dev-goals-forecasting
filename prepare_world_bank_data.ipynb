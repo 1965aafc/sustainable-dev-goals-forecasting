{
 "cells": [
  {
   "cell_type": "code",
   "execution_count": 213,
   "metadata": {},
   "outputs": [],
   "source": [
    "import pandas as pd\n",
    "from pycountry import countries\n"
   ]
  },
  {
   "cell_type": "code",
   "execution_count": 214,
   "metadata": {},
   "outputs": [],
   "source": [
    "out_dir = '.\\\\out\\\\'\n",
    "pickle_out_file = 'cleaned_world_bank_data.pkl'\n",
    "train_regressors_out_file = 'train_regressors_data.pkl'\n",
    "train_targets_out_file = 'train_targets_data.pkl'\n",
    "test_targets_out_file = 'test_targets_data.pkl'"
   ]
  },
  {
   "cell_type": "code",
   "execution_count": 215,
   "metadata": {},
   "outputs": [],
   "source": [
    "world_bank_file_out = \"world_bank_data\"\n",
    "wb_data = pd.read_pickle(world_bank_file_out)"
   ]
  },
  {
   "cell_type": "code",
   "execution_count": 216,
   "metadata": {},
   "outputs": [],
   "source": [
    "#Create list of valid countries taken from the pycountry library\n",
    "#This gives us a list of 249 coutries that we will focus on\n",
    "countries_list = []\n",
    "for country in countries:\n",
    "    countries_list.append(country.name)"
   ]
  },
  {
   "cell_type": "markdown",
   "metadata": {},
   "source": [
    "*Let's have a look at regions that are used in the world bank data that are not in the pycountry list:*"
   ]
  },
  {
   "cell_type": "code",
   "execution_count": 217,
   "metadata": {},
   "outputs": [
    {
     "name": "stdout",
     "output_type": "stream",
     "text": [
      "['Arab World', 'Bahamas, The', 'Bolivia', 'British Virgin Islands', 'Caribbean small states', 'Central Europe and the Baltics', 'Channel Islands', 'Congo, Dem. Rep.', 'Congo, Rep.', \"Cote d'Ivoire\", 'Curacao', 'Czech Republic', 'Early-demographic dividend', 'East Asia & Pacific', 'East Asia & Pacific (IDA & IBRD countries)', 'East Asia & Pacific (excluding high income)', 'Egypt, Arab Rep.', 'Eswatini', 'Euro area', 'Europe & Central Asia', 'Europe & Central Asia (IDA & IBRD countries)', 'Europe & Central Asia (excluding high income)', 'European Union', 'Fragile and conflict affected situations', 'Gambia, The', 'Heavily indebted poor countries (HIPC)', 'High income', 'Hong Kong SAR, China', 'IBRD only', 'IDA & IBRD total', 'IDA blend', 'IDA only', 'IDA total', 'Iran, Islamic Rep.', 'Korea, Dem. People’s Rep.', 'Korea, Rep.', 'Kosovo', 'Kyrgyz Republic', 'Lao PDR', 'Late-demographic dividend', 'Latin America & Caribbean', 'Latin America & Caribbean (excluding high income)', 'Latin America & the Caribbean (IDA & IBRD countries)', 'Least developed countries: UN classification', 'Low & middle income', 'Low income', 'Lower middle income', 'Macao SAR, China', 'Micronesia, Fed. Sts.', 'Middle East & North Africa', 'Middle East & North Africa (IDA & IBRD countries)', 'Middle East & North Africa (excluding high income)', 'Middle income', 'Moldova', 'North America', 'North Macedonia', 'Not classified', 'OECD members', 'Other small states', 'Pacific island small states', 'Post-demographic dividend', 'Pre-demographic dividend', 'Slovak Republic', 'Small states', 'South Asia', 'South Asia (IDA & IBRD)', 'St. Kitts and Nevis', 'St. Lucia', 'St. Martin (French part)', 'St. Vincent and the Grenadines', 'Sub-Saharan Africa', 'Sub-Saharan Africa (IDA & IBRD countries)', 'Sub-Saharan Africa (excluding high income)', 'Tanzania', 'Upper middle income', 'Venezuela, RB', 'Vietnam', 'Virgin Islands (U.S.)', 'West Bank and Gaza', 'World', 'Yemen, Rep.']\n"
     ]
    }
   ],
   "source": [
    "exclude_list = [wb_country for wb_country in wb_data.index.levels[0].values if wb_country not in countries_list]\n",
    "print(exclude_list)"
   ]
  },
  {
   "cell_type": "markdown",
   "metadata": {},
   "source": [
    "*Clearly, some of the regions in the list above seem to be countries of interest so we will investigate these further now to see why that are not in the pycountry list*\n",
    "\n",
    "To investigate:  \n",
    "Bahamas, The  \n",
    "Bolivia  \n",
    "British Virgin Islands  \n",
    "Congo, Dem. Rep.  \n",
    "Congo, Rep.  \n",
    "Cote d'Ivoire  \n",
    "Curacao  \n",
    "Czech Republic  \n",
    "Egypt, Arab Rep.  \n",
    "Eswatini  \n",
    "Gambia, The  \n",
    "Hong Kong SAR, China  \n",
    "Iran, Islamic Rep.  \n",
    "Korea, Dem. People’s Rep.  \n",
    "Korea, Rep.  \n",
    "Kosovo  \n",
    "Kyrgyz Republic  \n",
    "Lao PDR  \n",
    "Macao SAR, China  \n",
    "Micronesia, Fed. Sts.  \n",
    "Moldova  \n",
    "North Macedonia  \n",
    "Slovak Republic  \n",
    "St. Kitts and Nevis  \n",
    "St. Lucia  \n",
    "St. Martin (French part)  \n",
    "St. Vincent and the Grenadines  \n",
    "Tanzania  \n",
    "Venezuela, RB  \n",
    "Vietnam  \n",
    "Virgin Islands (U.S.)  \n",
    "West Bank and Gaza  \n",
    "Yemen, Rep.  "
   ]
  },
  {
   "cell_type": "markdown",
   "metadata": {},
   "source": [
    "*After a bit of investigation all of the above seem to fall into 3 categories:*\n",
    "\n",
    "1. Countries that have different names in both lists and the name in the World Bank dataset is clearer or simpler.\n",
    "2. Countries that have different names in both lists and the name in the pycountry library is decided to be the standard for all further processing  (most of the above)\n",
    "3. 'West Bank and Gaza' and 'Kosovo' are not listed in the pycountry list. I will add these to the countries_list seperately."
   ]
  },
  {
   "cell_type": "markdown",
   "metadata": {},
   "source": [
    "*1. Countries that have different names in both lists and the name in the World Bank dataset is clearer or simpler*"
   ]
  },
  {
   "cell_type": "code",
   "execution_count": 218,
   "metadata": {},
   "outputs": [],
   "source": [
    "#Some of the names in the pycountry list could be simplified or made clearer.\n",
    "pycountry_list_transform={\n",
    "#Remove names                      #Replace with these\n",
    "'Bolivia, Plurinational State of' :'Bolivia',\n",
    "'Côte d\\'Ivoire'                  :'Cote d\\'Ivoire',\n",
    "'Curaçao'                         :'Curacao',\n",
    "'Czechia'                         :'Czech Republic',\n",
    "'Viet Nam'                        :'Vietnam'\n",
    "}\n",
    "\n",
    "#remove the old names specifie above dictinary\n",
    "countries_list = [c for c in countries_list if c not in list(pycountry_list_transform.keys()) ]\n",
    "\n",
    "#Add the new names\n",
    "countries_list.extend(list(pycountry_list_transform.values()))"
   ]
  },
  {
   "cell_type": "markdown",
   "metadata": {},
   "source": [
    "*2. Countries that have different names in both lists and the name in the pycountry library is decided to be the standard for all further processing (most of the above)*"
   ]
  },
  {
   "cell_type": "code",
   "execution_count": 219,
   "metadata": {},
   "outputs": [],
   "source": [
    "countries_transform = {\n",
    "'Bahamas, The'                  :'Bahamas',\n",
    "'British Virgin Islands'        :'Virgin Islands, British',\n",
    "'Congo, Dem. Rep.'              :'Congo, The Democratic Republic of the',\n",
    "'Congo, Rep.'                   :'Congo',\n",
    "'Egypt, Arab Rep.'              :'Egypt',\n",
    "'Eswatini'                      :'Swaziland',\n",
    "'Gambia, The'                   :'Gambia',\n",
    "'Hong Kong SAR, China'          :'Hong Kong',\n",
    "'Iran, Islamic Rep.'            :'Iran, Islamic Republic of',\n",
    "'Korea, Dem. People’s Rep.'     :'Korea, Democratic People\\'s Republic of',\n",
    "'Korea, Rep.'                   :'Korea, Republic of',\n",
    "'Kyrgyz Republic'               :'Kyrgyzstan',\n",
    "'Lao PDR'                       :'Lao People\\'s Democratic Republic',\n",
    "'Macao SAR, China'              :'Macao',\n",
    "'Micronesia, Fed. Sts.'         :'Micronesia, Federated States of',\n",
    "'Moldova'                       :'Moldova, Republic of',\n",
    "'North Macedonia'               :'Macedonia, Republic of',\n",
    "'Slovak Republic'               :'Slovakia',\n",
    "'St. Kitts and Nevis'           :'Saint Kitts and Nevis',\n",
    "'St. Lucia'                     :'Saint Lucia',\n",
    "'St. Martin (French part)'      :'Saint Martin (French part)',\n",
    "'St. Vincent and the Grenadines':'Saint Vincent and the Grenadines',\n",
    "'Tanzania'                      :'Tanzania, United Republic of',\n",
    "'Venezuela, RB'                 :'Venezuela, Bolivarian Republic of',\n",
    "'Virgin Islands (U.S.)'         :'Virgin Islands, U.S.',\n",
    "'Yemen, Rep.'                   :'Yemen'}\n",
    "    "
   ]
  },
  {
   "cell_type": "code",
   "execution_count": 220,
   "metadata": {},
   "outputs": [],
   "source": [
    "#Get index as a list, make changes and reapply the list to the World Bank dataframe\n",
    "index_of_wb_countries = list(wb_data.index.levels[0])\n",
    "\n",
    "for remove_region, replace_with_region in countries_transform.items():\n",
    "    index_of_wb_countries[index_of_wb_countries.index(remove_region)] = replace_with_region\n",
    "\n",
    "#reapply the index to the original dataframe\n",
    "wb_data.index = wb_data.index.set_levels(index_of_wb_countries, level=0)"
   ]
  },
  {
   "cell_type": "markdown",
   "metadata": {},
   "source": [
    "*3. 'West Bank and Gaza' and 'Kosovo' are not listed in the pycountry list. I will add these to the countries_list seperately.*"
   ]
  },
  {
   "cell_type": "code",
   "execution_count": 221,
   "metadata": {},
   "outputs": [],
   "source": [
    "add_list = ['West Bank and Gaza', 'Kosovo']\n",
    "\n",
    "countries_list.extend(add_list)"
   ]
  },
  {
   "cell_type": "markdown",
   "metadata": {},
   "source": [
    "*Have another look at what regions are going to be excluded:*"
   ]
  },
  {
   "cell_type": "code",
   "execution_count": 222,
   "metadata": {},
   "outputs": [
    {
     "name": "stdout",
     "output_type": "stream",
     "text": [
      "['Arab World', 'Caribbean small states', 'Central Europe and the Baltics', 'Channel Islands', 'Early-demographic dividend', 'East Asia & Pacific', 'East Asia & Pacific (IDA & IBRD countries)', 'East Asia & Pacific (excluding high income)', 'Euro area', 'Europe & Central Asia', 'Europe & Central Asia (IDA & IBRD countries)', 'Europe & Central Asia (excluding high income)', 'European Union', 'Fragile and conflict affected situations', 'Heavily indebted poor countries (HIPC)', 'High income', 'IBRD only', 'IDA & IBRD total', 'IDA blend', 'IDA only', 'IDA total', 'Late-demographic dividend', 'Latin America & Caribbean', 'Latin America & Caribbean (excluding high income)', 'Latin America & the Caribbean (IDA & IBRD countries)', 'Least developed countries: UN classification', 'Low & middle income', 'Low income', 'Lower middle income', 'Middle East & North Africa', 'Middle East & North Africa (IDA & IBRD countries)', 'Middle East & North Africa (excluding high income)', 'Middle income', 'North America', 'Not classified', 'OECD members', 'Other small states', 'Pacific island small states', 'Post-demographic dividend', 'Pre-demographic dividend', 'Small states', 'South Asia', 'South Asia (IDA & IBRD)', 'Sub-Saharan Africa', 'Sub-Saharan Africa (IDA & IBRD countries)', 'Sub-Saharan Africa (excluding high income)', 'Upper middle income', 'World']\n"
     ]
    }
   ],
   "source": [
    "new_exclude_list = [wb_country for wb_country in wb_data.index.levels[0].values if wb_country not in countries_list]\n",
    "print(new_exclude_list)"
   ]
  },
  {
   "cell_type": "markdown",
   "metadata": {},
   "source": [
    "*Now that we have built up our coutries_list and refactored the World Bank dataframes country index, it is time to apply the filter to the World bank dataframe.*"
   ]
  },
  {
   "cell_type": "code",
   "execution_count": 223,
   "metadata": {},
   "outputs": [],
   "source": [
    "include_list = countries_list"
   ]
  },
  {
   "cell_type": "code",
   "execution_count": 224,
   "metadata": {},
   "outputs": [],
   "source": [
    "wb_data_countries_only = wb_data.loc[include_list]"
   ]
  },
  {
   "cell_type": "code",
   "execution_count": 225,
   "metadata": {},
   "outputs": [],
   "source": [
    "#A little bit of dataframe butchery here!!\n",
    "#For some reason after the dataframe subset creation above, the index of the new..\n",
    "#dataframe was the same as the original. Below is a way of getting around this..\n",
    "#(i.e. by generating a new one using reset_index/set_index)\n",
    "temp_data = wb_data_countries_only.reset_index()\n",
    "filtered_data = temp_data.set_index(['country', 'year'])"
   ]
  },
  {
   "cell_type": "code",
   "execution_count": 226,
   "metadata": {},
   "outputs": [
    {
     "data": {
      "text/plain": [
       "Index(['Afghanistan', 'Albania', 'Algeria', 'American Samoa', 'Andorra',\n",
       "       'Angola', 'Antigua and Barbuda', 'Argentina', 'Armenia', 'Aruba',\n",
       "       ...\n",
       "       'Uzbekistan', 'Vanuatu', 'Venezuela, Bolivarian Republic of', 'Vietnam',\n",
       "       'Virgin Islands, British', 'Virgin Islands, U.S.', 'West Bank and Gaza',\n",
       "       'Yemen', 'Zambia', 'Zimbabwe'],\n",
       "      dtype='object', name='country', length=216)"
      ]
     },
     "execution_count": 226,
     "metadata": {},
     "output_type": "execute_result"
    }
   ],
   "source": [
    "filtered_data.index.levels[0]"
   ]
  },
  {
   "cell_type": "code",
   "execution_count": 227,
   "metadata": {},
   "outputs": [
    {
     "data": {
      "text/plain": [
       "(10152, 9)"
      ]
     },
     "execution_count": 227,
     "metadata": {},
     "output_type": "execute_result"
    }
   ],
   "source": [
    "filtered_data.shape"
   ]
  },
  {
   "cell_type": "markdown",
   "metadata": {},
   "source": [
    "*Summary of Missing Data:*"
   ]
  },
  {
   "cell_type": "code",
   "execution_count": 228,
   "metadata": {
    "scrolled": true
   },
   "outputs": [
    {
     "data": {
      "text/plain": [
       "SI.POV.DDAY          0.852935\n",
       "SI.POV.GINI          0.853625\n",
       "EN.POP.SLUM.UR.ZS    0.957053\n",
       "SI.SPR.PC40          0.981678\n",
       "SE.PRM.UNER          0.600177\n",
       "SE.XPD.TOTL.GD.ZS    0.638987\n",
       "SL.TLF.TOTL.IN       0.469661\n",
       "NY.GDP.MKTP.KD.ZG    0.218282\n",
       "SP.URB.TOTL.IN.ZS    0.034476\n",
       "dtype: float64"
      ]
     },
     "execution_count": 228,
     "metadata": {},
     "output_type": "execute_result"
    }
   ],
   "source": [
    "filtered_data.isna().sum()/filtered_data.shape[0]"
   ]
  },
  {
   "cell_type": "code",
   "execution_count": 229,
   "metadata": {},
   "outputs": [],
   "source": [
    "#According to pandas docs on multiIndex usage: For objects to be indexed and sliced effectively, they need to be sorted.\n",
    "filtered_data = filtered_data.sort_index()"
   ]
  },
  {
   "cell_type": "markdown",
   "metadata": {},
   "source": [
    "### Reorganise the data into overlapping window frames\n",
    "\n",
    "For consumption by the machine forecasting algo we reorganise the dataframe to be a 3 layer multilevel index dataframe: Country, Frame, Year."
   ]
  },
  {
   "cell_type": "code",
   "execution_count": 230,
   "metadata": {},
   "outputs": [],
   "source": [
    "countries_in_orig_data = list(filtered_data.index.levels[0]) "
   ]
  },
  {
   "cell_type": "code",
   "execution_count": 231,
   "metadata": {},
   "outputs": [],
   "source": [
    "target = 'SI.POV.DDAY'\n",
    "regressors = list(filtered_data.columns)\n",
    "regressors.remove(target)\n",
    "lag = 5\n",
    "diff = 1\n",
    "predict_year=2010\n",
    "number_of_splits=3\n"
   ]
  },
  {
   "cell_type": "code",
   "execution_count": 232,
   "metadata": {},
   "outputs": [],
   "source": [
    "#Create an empty test and training dataframes\n",
    "regressors_index = pd.MultiIndex(levels=[[],[],[]],\n",
    "                            codes=[[],[],[]],\n",
    "                            names=[u'country', u'split', u'year'])\n",
    "target_index = pd.MultiIndex(levels=[[],[]],\n",
    "                           codes=[[],[]],\n",
    "                           names=[u'country', u'split'])\n",
    "test_index = countries_in_orig_data\n",
    "\n",
    "\n",
    "columns_spilt = regressors\n",
    "training_data_regressors = pd.DataFrame(index=regressors_index, columns=columns_spilt)\n",
    "training_data_targets = pd.DataFrame(index=target_index, columns=[target])\n",
    "test_data_targets = pd.DataFrame(index=test_index, columns=[target])"
   ]
  },
  {
   "cell_type": "code",
   "execution_count": 233,
   "metadata": {},
   "outputs": [],
   "source": [
    "#fill out the training dataframes (training_data_regressors and training_data_targets)\n",
    "for country in countries_in_orig_data:\n",
    "    test_data_targets.loc[country, target] =  filtered_data.loc[(country,str(predict_year)), target]\n",
    "    for split in range(1,number_of_splits+1):\n",
    "        year= predict_year - split\n",
    "        #Add the target value for the spilt to the test_data \n",
    "        training_data_targets.loc[(country, split),:] = filtered_data.loc[(country,str(year)), target]\n",
    "        for l in range(1,lag+1):\n",
    "            year = year -1\n",
    "            training_data_regressors.loc[(country,split,l),:] = filtered_data.loc[(country,str(year)), regressors]  \n",
    "                        "
   ]
  },
  {
   "cell_type": "code",
   "execution_count": null,
   "metadata": {},
   "outputs": [],
   "source": [
    "#According to pandas docs on multiIndex usage: For objects to be indexed and sliced effectively, they need to be sorted.\n",
    "training_data_regressors = training_data_regressors.sort_index()\n",
    "training_data_targets = training_data_targets.sort_index()\n",
    "test_data_targets = test_data_targets.sort_index()"
   ]
  },
  {
   "cell_type": "markdown",
   "metadata": {},
   "source": [
    "*note on efficiency: If needed when the datasets get bigger the above 3 loop copy can be made faster.  It is writing overlapping windows from one dataframe to another so unless there is a major overhaul we probably need to hold on to one of the for loops but the other 2 can go.*\n",
    "\n",
    "*1. (Straightforward) The inner-most for loop can be replaced by copying a block of 'lag' rows in one go.*  \n",
    "*2. (a bit trickier) The other-most loop (counties) could be replaced by making it inside of the spilt loop and copying one split for all the countries in one pandas copy.*"
   ]
  },
  {
   "cell_type": "markdown",
   "metadata": {},
   "source": [
    "### Write Files to disk"
   ]
  },
  {
   "cell_type": "code",
   "execution_count": 210,
   "metadata": {},
   "outputs": [],
   "source": [
    "#Write the original dataset filtered to include only countries\n",
    "filtered_data.to_pickle(out_dir + pickle_out_file)"
   ]
  },
  {
   "cell_type": "code",
   "execution_count": 211,
   "metadata": {},
   "outputs": [],
   "source": [
    "#Write the time series window data (ready for the forecasting algos)\n",
    "training_data_regressors.to_pickle(out_dir + train_regressors_out_file)\n",
    "training_data_targets.to_pickle(out_dir + train_targets_out_file)\n",
    "test_data_targets.to_pickle(out_dir + test_targets_out_file)"
   ]
  }
 ],
 "metadata": {
  "kernelspec": {
   "display_name": "Python 3",
   "language": "python",
   "name": "python3"
  },
  "language_info": {
   "codemirror_mode": {
    "name": "ipython",
    "version": 3
   },
   "file_extension": ".py",
   "mimetype": "text/x-python",
   "name": "python",
   "nbconvert_exporter": "python",
   "pygments_lexer": "ipython3",
   "version": "3.7.2"
  }
 },
 "nbformat": 4,
 "nbformat_minor": 2
}
